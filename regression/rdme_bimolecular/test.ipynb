{
 "cells": [
  {
   "cell_type": "code",
   "execution_count": 21,
   "metadata": {},
   "outputs": [],
   "source": [
    "%matplotlib inline\n",
    "from __future__ import division\n",
    "import matplotlib\n",
    "import numpy as np\n",
    "from pylab import *\n",
    "import os\n",
    "matplotlib.rcParams.update({\"axes.formatter.limits\": (-4,4)})\n",
    "plotStyles={\"markersize\":20,\"markeredgewidth\":3.0,\"linewidth\":3.0}\n",
    "stepStyles={\"markersize\":20,\"markeredgewidth\":3.0,\"linewidth\":3.0,\"where\":\"post\"}\n",
    "np.seterr(divide='ignore',invalid='ignore')\n",
    "pass"
   ]
  },
  {
   "cell_type": "code",
   "execution_count": 22,
   "metadata": {},
   "outputs": [
    {
     "data": {
      "application/javascript": [
       "IPython.OutputArea.auto_scroll_threshold = 9999;"
      ],
      "text/plain": [
       "<IPython.core.display.Javascript object>"
      ]
     },
     "metadata": {},
     "output_type": "display_data"
    }
   ],
   "source": [
    "%%javascript\n",
    "IPython.OutputArea.auto_scroll_threshold = 9999;"
   ]
  },
  {
   "cell_type": "markdown",
   "metadata": {},
   "source": [
    "# Setup the notebook."
   ]
  },
  {
   "cell_type": "code",
   "execution_count": 23,
   "metadata": {},
   "outputs": [],
   "source": [
    "import h5py\n",
    "import math\n",
    "testNames=[\"bimolecular_time_limit\"]\n",
    "test_names_bash_list=\" \".join(testNames)"
   ]
  },
  {
   "cell_type": "code",
   "execution_count": 24,
   "metadata": {},
   "outputs": [],
   "source": [
    "%%bash\n",
    "rm -rf tmp && mkdir tmp"
   ]
  },
  {
   "cell_type": "code",
   "execution_count": 25,
   "metadata": {},
   "outputs": [],
   "source": [
    "def isclose(a, b, rel_tol=1e-09, abs_tol=0.0):\n",
    "    return abs(a-b) <= max(rel_tol * max(abs(a), abs(b)), abs_tol)"
   ]
  },
  {
   "cell_type": "markdown",
   "metadata": {},
   "source": [
    "# Execute the simulations."
   ]
  },
  {
   "cell_type": "code",
   "execution_count": 26,
   "metadata": {},
   "outputs": [
    {
     "name": "stdout",
     "output_type": "stream",
     "text": [
      "Finished.\n"
     ]
    }
   ],
   "source": [
    "%%bash -s \"$test_names_bash_list\"\n",
    "sbmlFilename=\"rdme_bimolecular.sbml\"\n",
    "for testName in $1; do\n",
    "    outputFilename=tmp/${testName}.lm\n",
    "    rm -f ${outputFilename}*\n",
    "    lm_sbml_import ${outputFilename} ${sbmlFilename} > ${outputFilename}.import.log\n",
    "    lm_setdm ${outputFilename} numberReactions=2 numberSpecies=3 numberSiteTypes=1 \"latticeSize=[5,6,7]\" latticeSpacing=1e-6 particlesPerSite=16 \"DiffusionMatrix(0,0,:)=[1e-10,1e-10,1e-10]\" \"ReactionLocationMatrix=[1,1]\" > ${outputFilename}.setdm.log\n",
    "    if [ ${testName} == \"bimolecular_time_limit\" ]; then\n",
    "        lm_setp ${outputFilename} maxTime=1e3 writeInterval=1e0 latticeWriteInterval=1e0 > /dev/null\n",
    "    else\n",
    "        echo \"Invalid test name: ${testName}\"\n",
    "        continue\n",
    "    fi\n",
    "    lmes -c 3 -sp -r 1-10 -f ${outputFilename} > ${outputFilename}.simulate.log\n",
    "done;\n",
    "echo \"Finished.\""
   ]
  },
  {
   "cell_type": "markdown",
   "metadata": {},
   "source": [
    "# Define some tests."
   ]
  },
  {
   "cell_type": "code",
   "execution_count": 27,
   "metadata": {},
   "outputs": [],
   "source": [
    "def test_bimolecular_time_limit_stats(testOutputFilename):\n",
    "    \n",
    "    # Calcualte some statistics about the species counts.\n",
    "    fp = h5py.File(testOutputFilename, \"r\")\n",
    "    replicates=fp[\"/Simulations\"].keys()\n",
    "    k=0\n",
    "    mSim=None\n",
    "    vSim=None\n",
    "    times=None\n",
    "    for replicate in replicates:\n",
    "        if times is None:\n",
    "            times = np.array(fp[\"/Simulations/%s/SpeciesCountTimes\"%replicate], dtype=double)\n",
    "        counts = np.array(fp[\"/Simulations/%s/SpeciesCounts\"%replicate], dtype=double)\n",
    "        if mSim is None:\n",
    "            k += 1\n",
    "            mSim = counts\n",
    "            vSim = np.zeros(counts.shape, dtype=double)\n",
    "        else:\n",
    "            k += 1\n",
    "            mSim = mSim + (counts-mSim)/k\n",
    "            vSim = vSim + (counts-mSim)*(counts-mSim)\n",
    "    vSim /= float((k-1))\n",
    "\n",
    "    # Plot the mean and variance.\n",
    "    matplotlib.rcParams.update({'font.size': 15, \"figure.figsize\": (15,3)})\n",
    "    ax=plt.subplot(1,2,1)\n",
    "    plt.plot(times,mSim[:,0], **plotStyles)\n",
    "    ax.set_yscale('log'); xlabel('t'); ylabel('E{X(t)}'); title(\"%s\"%(testOutputFilename))\n",
    "    ax=plt.subplot(1,2,2)\n",
    "    plt.plot(times,vSim[:,0], **plotStyles)\n",
    "    ax.set_yscale('log'); xlabel('t'); ylabel('Var{X(t)}'); title(\"%s\"%(testOutputFilename))\n",
    "    fp.close()\n",
    "\n",
    "    # Check the mean and variance.\n",
    "    value = np.mean(mSim[len(mSim)//2:])\n",
    "    if not isclose(value,50.0,1e-2): raise Exception(\"incorrect value for mean\",value)\n",
    "    value = np.mean(vSim[len(mSim)//2:])\n",
    "    if not isclose(value,13.2,5e-2): raise Exception(\"incorrect value for variance\",value)"
   ]
  },
  {
   "cell_type": "code",
   "execution_count": 28,
   "metadata": {},
   "outputs": [],
   "source": [
    "def test_bimolecular_time_limit_density(testOutputFilename):\n",
    "    \n",
    "    # Calculate some statistic about the spatial density.\n",
    "    fp = h5py.File(testOutputFilename, \"r\")\n",
    "    replicates=fp[\"/Simulations\"].keys()\n",
    "    k=0\n",
    "    mSim=None\n",
    "    vSim=None\n",
    "    times=None\n",
    "    count = 0\n",
    "    lc = np.zeros((5,6,7), dtype=double)\n",
    "    for replicate in replicates:\n",
    "        lattices=fp[\"/Simulations/%s/Lattice\"%replicate].keys()\n",
    "        for lattice in lattices:\n",
    "            lfull = np.array(fp[\"/Simulations/%s/Lattice/%s\"%(replicate,lattice)], dtype=np.uint8)\n",
    "            lc += np.sum(lfull==2,3)\n",
    "            count += 1\n",
    "    lc /= count\n",
    "    fp.close()\n",
    "    \n",
    "    # Plot the mean spatial density.\n",
    "    for i in range(0,lc.shape[2]):\n",
    "        plt.subplot(1,lc.shape[2],i+1)\n",
    "        plt.imshow(lc[:,:,i], cmap=plt.cm.gray, origin='lower', interpolation=\"none\", vmin=0.0, vmax=(50.0/210.0)*2.0)\n",
    "    \n",
    "    # Check the spatial density.\n",
    "    value = np.min(lc)\n",
    "    if not isclose(value,0.226,1e-2): raise Exception(\"incorrect value for min\",value)\n",
    "    value = np.mean(lc)\n",
    "    if not isclose(value,0.238,1e-2): raise Exception(\"incorrect value for mean\",value)\n",
    "    value = np.max(lc)\n",
    "    if not isclose(value,0.252,1e-2): raise Exception(\"incorrect value for max\",value)"
   ]
  },
  {
   "cell_type": "code",
   "execution_count": 29,
   "metadata": {},
   "outputs": [],
   "source": [
    "def test_bimolecular_time_limit_compare(testOutputFilename):\n",
    "    \n",
    "    # Compare the species and lattice counts.\n",
    "    fp = h5py.File(testOutputFilename, \"r\")\n",
    "    replicates=fp[\"/Simulations\"].keys()\n",
    "    xs=[]\n",
    "    ys=[]\n",
    "    for replicate in replicates:\n",
    "        counts=np.array(fp[\"/Simulations/%s/SpeciesCounts\"%replicate], dtype=double)\n",
    "        for i in range(0,counts.shape[0]):\n",
    "            xs.append(counts[i,2])\n",
    "        lattices=fp[\"/Simulations/%s/Lattice\"%replicate].keys()\n",
    "        for lattice in lattices:\n",
    "            lfull = np.array(fp[\"/Simulations/%s/Lattice/%s\"%(replicate,lattice)], dtype=np.uint8)\n",
    "            ys.append(np.sum(lfull==2))\n",
    "            \n",
    "    # Plot the comparison.\n",
    "    plt.scatter(xs,ys)\n",
    "    \n",
    "    # Check the comparison.\n",
    "    for i in range(len(xs)):\n",
    "        if xs[i] != ys[i]:\n",
    "            raise Exception(\"mismatch in counts at step %d: %d, %d\",i, xs[i], ys[i])"
   ]
  },
  {
   "cell_type": "markdown",
   "metadata": {},
   "source": [
    "# Run the tests."
   ]
  },
  {
   "cell_type": "code",
   "execution_count": 30,
   "metadata": {},
   "outputs": [
    {
     "name": "stdout",
     "output_type": "stream",
     "text": [
      "[bimolecular_time_limit:0]                                   : passed.\n"
     ]
    },
    {
     "data": {
      "image/png": "[encoded data removed]",
      "text/plain": [
       "<matplotlib.figure.Figure at 0x7f59151ac390>"
      ]
     },
     "metadata": {
      "needs_background": "light"
     },
     "output_type": "display_data"
    },
    {
     "name": "stdout",
     "output_type": "stream",
     "text": [
      "[bimolecular_time_limit:1]                                   : passed.\n"
     ]
    },
    {
     "data": {
      "image/png": "[encoded data removed]",
      "text/plain": [
       "<matplotlib.figure.Figure at 0x7f59151447d0>"
      ]
     },
     "metadata": {
      "needs_background": "light"
     },
     "output_type": "display_data"
    },
    {
     "name": "stdout",
     "output_type": "stream",
     "text": [
      "[bimolecular_time_limit:2]                                   : passed.\n"
     ]
    },
    {
     "data": {
      "image/png": "[encoded data removed]",
      "text/plain": [
       "<matplotlib.figure.Figure at 0x7f5914db4c50>"
      ]
     },
     "metadata": {
      "needs_background": "light"
     },
     "output_type": "display_data"
    }
   ],
   "source": [
    "testMethods = {\"bimolecular_time_limit\": [test_bimolecular_time_limit_stats,test_bimolecular_time_limit_density,test_bimolecular_time_limit_compare]}\n",
    "matplotlib.rcParams.update({'font.size': 15, \"figure.figsize\": (20,5)})\n",
    "i=1\n",
    "for testName in testNames:\n",
    "    for i,testMethod in enumerate(testMethods[testName]):\n",
    "        try:\n",
    "            testOutputFilename=\"tmp/%s.lm\"%(testName)\n",
    "            testMethod(testOutputFilename)\n",
    "        except Exception as e:\n",
    "            print \"%-60s : FAILED with:\"%(\"[\"+testName+\":\"+str(i)+\"]\"),e\n",
    "        except:\n",
    "            print \"%-60s : FAILED with: Unknown exception\"%(\"[\"+testName+\":\"+str(i)+\"]\")\n",
    "        else:\n",
    "            print \"%-60s : passed.\"%(\"[\"+testName+\":\"+str(i)+\"]\")\n",
    "        plt.tight_layout()\n",
    "        plt.show()\n",
    "pass"
   ]
  },
  {
   "cell_type": "code",
   "execution_count": 31,
   "metadata": {},
   "outputs": [],
   "source": [
    "%%bash\n",
    "rm -rf tmp"
   ]
  },
  {
   "cell_type": "code",
   "execution_count": null,
   "metadata": {
    "collapsed": true
   },
   "outputs": [],
   "source": []
  }
 ],
 "metadata": {
  "kernelspec": {
   "display_name": "Python 2",
   "language": "python",
   "name": "python2"
  },
  "language_info": {
   "codemirror_mode": {
    "name": "ipython",
    "version": 2
   },
   "file_extension": ".py",
   "mimetype": "text/x-python",
   "name": "python",
   "nbconvert_exporter": "python",
   "pygments_lexer": "ipython2",
   "version": "2.7.15rc1"
  }
 },
 "nbformat": 4,
 "nbformat_minor": 1
}
