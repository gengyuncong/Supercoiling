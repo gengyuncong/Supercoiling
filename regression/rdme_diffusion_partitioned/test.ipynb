{
 "cells": [
  {
   "cell_type": "code",
   "execution_count": 244,
   "metadata": {},
   "outputs": [
    {
     "data": {
      "application/javascript": [
       "IPython.OutputArea.prototype._should_scroll = function(lines) {\n",
       "    return false;\n",
       "}"
      ],
      "text/plain": [
       "<IPython.core.display.Javascript object>"
      ]
     },
     "metadata": {},
     "output_type": "display_data"
    }
   ],
   "source": [
    "%%javascript\n",
    "IPython.OutputArea.prototype._should_scroll = function(lines) {\n",
    "    return false;\n",
    "}"
   ]
  },
  {
   "cell_type": "code",
   "execution_count": 245,
   "metadata": {},
   "outputs": [],
   "source": [
    "%matplotlib inline\n",
    "from __future__ import division\n",
    "import matplotlib\n",
    "import numpy as np\n",
    "from pylab import *\n",
    "import os\n",
    "matplotlib.rcParams.update({\"axes.formatter.limits\": (-4,4)})\n",
    "plotStyles={\"markersize\":20,\"markeredgewidth\":3.0,\"linewidth\":3.0}\n",
    "stepStyles={\"markersize\":20,\"markeredgewidth\":3.0,\"linewidth\":3.0,\"where\":\"post\"}\n",
    "np.seterr(divide='ignore',invalid='ignore')\n",
    "pass"
   ]
  },
  {
   "cell_type": "markdown",
   "metadata": {},
   "source": [
    "# Setup the notebook."
   ]
  },
  {
   "cell_type": "code",
   "execution_count": 246,
   "metadata": {},
   "outputs": [],
   "source": [
    "import h5py\n",
    "import math\n",
    "import random\n",
    "testNames=[\n",
    "        \"reflecting_global\",\n",
    "        ]\n",
    "test_names_bash_list=\" \".join(testNames)"
   ]
  },
  {
   "cell_type": "code",
   "execution_count": 247,
   "metadata": {},
   "outputs": [],
   "source": [
    "%%bash\n",
    "rm -rf tmp && mkdir tmp"
   ]
  },
  {
   "cell_type": "code",
   "execution_count": 248,
   "metadata": {},
   "outputs": [],
   "source": [
    "def isclose(a, b, rel_tol=1e-09, abs_tol=0.0):\n",
    "    return abs(a-b) <= max(rel_tol * max(abs(a), abs(b)), abs_tol)"
   ]
  },
  {
   "cell_type": "code",
   "execution_count": 249,
   "metadata": {},
   "outputs": [],
   "source": [
    "def buildPartitionedLattice(filename):\n",
    "    fp = h5py.File(filename, \"a\")\n",
    "    sites=fp[\"/Model/Diffusion/LatticeSites\"]\n",
    "    sites[0:5,:,:] = 0\n",
    "    sites[5,:,:] = 2\n",
    "    sites[6:11,:,:] = 1\n",
    "    initialCounts=fp[\"/Model/Reaction/InitialSpeciesCounts\"]\n",
    "    particles=fp[\"/Model/Diffusion/Lattice\"]\n",
    "    for i in range(len(initialCounts)):\n",
    "        attempts = 0\n",
    "        placed = 0\n",
    "        while placed < initialCounts[i]:\n",
    "            attempts += 1\n",
    "            x = random.randint(0,particles.shape[0]-1)\n",
    "            y = random.randint(0,particles.shape[1]-1)\n",
    "            z = random.randint(0,particles.shape[2]-1)\n",
    "            if (i == 0 and sites[x,y,z] == 0 and x == 0) or (i == 1 and sites[x,y,z] == 1 and x == 10) or (i == 2 and sites[x,y,z] == 2):\n",
    "                for p in range(particles.shape[3]):\n",
    "                    if particles[x,y,z,p] == 0xFF:\n",
    "                        particles[x,y,z,p] = i\n",
    "                        placed += 1\n",
    "                        break\n",
    "        print \"Placed %d particles of type %d in %d attempts.\"%(placed,i,attempts)\n",
    "    fp.close()   "
   ]
  },
  {
   "cell_type": "markdown",
   "metadata": {},
   "source": [
    "# Execute the simulations."
   ]
  },
  {
   "cell_type": "code",
   "execution_count": 250,
   "metadata": {},
   "outputs": [
    {
     "name": "stdout",
     "output_type": "stream",
     "text": [
      "Finished.\n"
     ]
    }
   ],
   "source": [
    "%%bash -s \"$test_names_bash_list\"\n",
    "sbmlFilename=\"diffusion_model.sbml\"\n",
    "for testName in $1; do\n",
    "    outputFilename=tmp/${testName}.lm\n",
    "    rm -f ${outputFilename}*\n",
    "    lm_sbml_import ${outputFilename} ${sbmlFilename} > ${outputFilename}.import.log\n",
    "    if [[ ${testName} == reflecting_* ]]; then\n",
    "        lm_setdm ${outputFilename} PlaceParticles=0 numberReactions=0 numberSpecies=3 numberSiteTypes=3 \"latticeSize=[11,11,11]\" latticeSpacing=1e-6 particlesPerSite=16 \"DiffusionMatrix(:,:,0)=[1e-10,0,1e-10;0,0,0;1e-10,0,1e-10;]\" \"DiffusionMatrix(:,:,1)=[0,0,0;0,1e-10,1e-10;0,1e-10,1e-10]\" \"DiffusionMatrix(:,:,2)=[1e-10,0,0;0,1e-10,0;1e-11,1e-12,1e-10]\" \"ReactionLocationMatrix=[]\" > ${outputFilename}.setdm.log\n",
    "        lm_setp ${outputFilename} maxTime=1e0 writeInterval=1e-1 latticeWriteInterval=1e-1 > /dev/null\n",
    "        bc=REFLECTING\n",
    "    elif [[ ${testName} == absorbing_* ]]; then\n",
    "        lm_setdm ${outputFilename} PlaceParticles=0 numberReactions=0 numberSpecies=16 numberSiteTypes=1 \"latticeSize=[51,51,51]\" latticeSpacing=1e-6 particlesPerSite=16 \"DiffusionMatrix(:,:,:)=[1e-10]\" \"ReactionLocationMatrix=[]\" > ${outputFilename}.setdm.log\n",
    "        lm_setp ${outputFilename} maxTime=2e0 writeInterval=1e-1 latticeWriteInterval=1e-1 > /dev/null\n",
    "        bc=ABSORBING\n",
    "    elif [[ ${testName} == periodic_* ]]; then\n",
    "        lm_setdm ${outputFilename} PlaceParticles=0 numberReactions=0 numberSpecies=16 numberSiteTypes=1 \"latticeSize=[21,21,21]\" latticeSpacing=1e-6 particlesPerSite=16 \"DiffusionMatrix(:,:,:)=[1e-10]\" \"ReactionLocationMatrix=[]\" > ${outputFilename}.setdm.log\n",
    "        lm_setp ${outputFilename} maxTime=2e0 writeInterval=1e-2 latticeWriteInterval=1e-2 > /dev/null\n",
    "        bc=PERIODIC\n",
    "    else\n",
    "        echo \"Invalid test name: ${testName}\"\n",
    "        continue\n",
    "    fi\n",
    "    if [[ ${testName} == *_global ]]; then\n",
    "        lm_setp ${outputFilename} boundaryConditions=${bc} > /dev/null\n",
    "    elif [[ ${testName} == *_x ]]; then\n",
    "        lm_setp ${outputFilename} boundaryConditions=x:${bc},y:REFLECTING,z:REFLECTING > /dev/null\n",
    "    elif [[ ${testName} == *_y ]]; then\n",
    "        lm_setp ${outputFilename} boundaryConditions=x:REFLECTING,y:${bc},z:REFLECTING > /dev/null\n",
    "    elif [[ ${testName} == *_z ]]; then\n",
    "        lm_setp ${outputFilename} boundaryConditions=x:REFLECTING,y:REFLECTING,z:${bc} > /dev/null\n",
    "    else\n",
    "        echo \"Invalid test name: ${testName}\"\n",
    "        continue\n",
    "    fi\n",
    "done;\n",
    "echo \"Finished.\""
   ]
  },
  {
   "cell_type": "code",
   "execution_count": 251,
   "metadata": {},
   "outputs": [
    {
     "name": "stdout",
     "output_type": "stream",
     "text": [
      "Placed 100 particles of type 0 in 964 attempts.\n",
      "Placed 200 particles of type 1 in 2203 attempts.\n",
      "Placed 300 particles of type 2 in 3254 attempts.\n",
      "Finished.\n"
     ]
    }
   ],
   "source": [
    "# Construct the lattices.\n",
    "for testName in testNames:\n",
    "    buildPartitionedLattice(\"tmp/%s.lm\"%(testName))\n",
    "print \"Finished.\""
   ]
  },
  {
   "cell_type": "code",
   "execution_count": 252,
   "metadata": {},
   "outputs": [
    {
     "name": "stdout",
     "output_type": "stream",
     "text": [
      "Finished.\n"
     ]
    }
   ],
   "source": [
    "%%bash -s \"$test_names_bash_list\"\n",
    "for testName in $1; do\n",
    "    outputFilename=tmp/${testName}.lm\n",
    "    lmes -sp -r 1-10 -f ${outputFilename} > ${outputFilename}.simulate.log\n",
    "done;\n",
    "echo \"Finished.\""
   ]
  },
  {
   "cell_type": "markdown",
   "metadata": {},
   "source": [
    "# Spot check some simulations."
   ]
  },
  {
   "cell_type": "code",
   "execution_count": 253,
   "metadata": {},
   "outputs": [
    {
     "data": {
      "image/png": "[encoded data removed]",
      "text/plain": [
       "<matplotlib.figure.Figure at 0x7f3167d577d0>"
      ]
     },
     "metadata": {
      "needs_background": "light"
     },
     "output_type": "display_data"
    }
   ],
   "source": [
    "# Plot the time series for a single replicate.\n",
    "for i,testName in enumerate(testNames):\n",
    "    testOutputFilename=\"tmp/%s.lm\"%(testName)\n",
    "    fp = h5py.File(testOutputFilename, \"r\")\n",
    "    cols=2\n",
    "    rows=len(testNames)//cols\n",
    "    if rows*cols < len(testNames): rows += 1\n",
    "    matplotlib.rcParams.update({'font.size': 15, \"figure.figsize\": (15,4*rows)})\n",
    "    for replicate in (1,):\n",
    "        counts=np.array(fp[\"/Simulations/%07d/SpeciesCounts\"%replicate], dtype=double)\n",
    "        times=np.array(fp[\"/Simulations/%07d/SpeciesCountTimes\"%replicate], dtype=double)\n",
    "        plt.subplot(rows,cols,i+1)\n",
    "        plot(times,counts[:,0], label='A', **plotStyles)\n",
    "        plot(times,counts[:,1], label='B', **plotStyles)\n",
    "        plot(times,counts[:,2], label='C', **plotStyles)\n",
    "        xlabel('t'); ylabel('# Molecules'); title(\"%s\"%(testName)); legend()\n",
    "    fp.close()\n",
    "plt.tight_layout()\n",
    "pass"
   ]
  },
  {
   "cell_type": "code",
   "execution_count": 254,
   "metadata": {},
   "outputs": [
    {
     "data": {
      "image/png": "[encoded data removed]",
      "text/plain": [
       "<matplotlib.figure.Figure at 0x7f3167235ed0>"
      ]
     },
     "metadata": {
      "needs_background": "light"
     },
     "output_type": "display_data"
    }
   ],
   "source": [
    "# Plot the time series for a single replicate.\n",
    "rows=len(testNames)*3\n",
    "cols=4\n",
    "for i,testName in enumerate(testNames):\n",
    "    testOutputFilename=\"tmp/%s.lm\"%(testName)\n",
    "    fp = h5py.File(testOutputFilename, \"r\")\n",
    "    matplotlib.rcParams.update({'font.size': 15, \"figure.figsize\": (15,3*rows)})\n",
    "    replicate=1\n",
    "    lattices=fp[\"/Simulations/%07d/Lattice\"%replicate].keys()\n",
    "    times=fp[\"/Simulations/%07d/LatticeTimes\"%replicate]\n",
    "    latticeIndices=(0,1,2,len(lattices)-1)\n",
    "    for j in range(len(latticeIndices)):\n",
    "        lfull = np.array(fp[\"/Simulations/%07d/Lattice/%s\"%(replicate,lattices[latticeIndices[j]])], dtype=np.uint8)\n",
    "        for k in range(3):\n",
    "            lc = np.sum(lfull==k,3)\n",
    "            plt.subplot(rows,cols,(i*3+k)*cols+j+1)\n",
    "            plt.imshow(np.sum(lc[:,:,:],2).T, origin='lower', interpolation=\"none\", vmin=0.0, vmax=10.0)\n",
    "            if j == 0:\n",
    "                title(\"%s,%d\"%(testName,k))\n",
    "            else:\n",
    "                title(\"t=%0.2f\"%times[latticeIndices[j]])\n",
    "    fp.close()\n",
    "plt.tight_layout()\n",
    "pass"
   ]
  },
  {
   "cell_type": "markdown",
   "metadata": {},
   "source": [
    "# Define some tests."
   ]
  },
  {
   "cell_type": "code",
   "execution_count": 269,
   "metadata": {},
   "outputs": [],
   "source": [
    "def test_reflecting(testOutputFilename):\n",
    "    \n",
    "    # Compare the species and lattice output.\n",
    "    fp = h5py.File(testOutputFilename, \"r\")\n",
    "    replicates=fp[\"/Simulations\"].keys()\n",
    "    for replicate in replicates:\n",
    "        times = np.array(fp[\"/Simulations/%s/SpeciesCountTimes\"%replicate], dtype=double)\n",
    "        latticeTimes = np.array(fp[\"/Simulations/%s/LatticeTimes\"%replicate], dtype=double)\n",
    "        if not np.array_equal(times.shape, latticeTimes.shape): raise Exception(\"time and lattice time not equal for replicate\",replicate)\n",
    "        counts = np.array(fp[\"/Simulations/%s/SpeciesCounts\"%replicate], dtype=double)\n",
    "        latticeNames = fp[\"/Simulations/%s/Lattice\"%replicate].keys()\n",
    "        if counts.shape[0] != len(latticeNames): raise Exception(\"number of counts and lattices not equal for replicate\",replicate)\n",
    "        ti=0\n",
    "        for latticeName in latticeNames:\n",
    "            lattice = np.array(fp[\"/Simulations/%s/Lattice/%s\"%(replicate,latticeName)], dtype=np.uint8)\n",
    "            for p in range(counts.shape[1]):\n",
    "                latticeCount = np.sum(lattice==p)\n",
    "                if counts[ti,p] != latticeCount: raise Exception(\"counts and lattice counts not equal for replicate and time\",replicate,latticeName)\n",
    "            ti+=1\n",
    "        \n",
    "        # Check that we aren't losing particles.\n",
    "        for i in range(times.shape[0]):\n",
    "            if np.sum(counts[i,]) != np.sum(counts[0,]): raise Exception(\"invalid number of particles at time %d and replicate %s\"%(times[i],replicate))\n",
    "\n",
    "    # Calculate the density profile vs time.\n",
    "    density = None\n",
    "    for replicate in replicates:\n",
    "        counts = np.array(fp[\"/Simulations/%s/SpeciesCounts\"%replicate], dtype=double)\n",
    "        latticeTimes = np.array(fp[\"/Simulations/%s/LatticeTimes\"%replicate], dtype=double)\n",
    "        latticeNames = fp[\"/Simulations/%s/Lattice\"%replicate].keys()\n",
    "        for ti,latticeName in enumerate(latticeNames):\n",
    "            lattice = np.array(fp[\"/Simulations/%s/Lattice/%s\"%(replicate,latticeName)], dtype=np.uint8)\n",
    "            if density is None: density = np.zeros((latticeTimes.shape[0],lattice.shape[0],counts.shape[1]), dtype=float)\n",
    "            for p in range(counts.shape[1]):\n",
    "                density[ti,:,p] += np.sum(np.sum(np.sum(lattice==p,3),2),1)\n",
    "    density /= len(replicates)\n",
    "    density[:,:,0] /= 100\n",
    "    density[:,:,1] /= 200\n",
    "    density[:,:,2] /= 300\n",
    "    \n",
    "    matplotlib.rcParams.update({'font.size': 15, \"figure.figsize\": (15,3)})\n",
    "    plt.subplot(1,3,1)\n",
    "    plt.plot(range(density.shape[1]), density[0,:,0], **plotStyles)\n",
    "    plt.plot(range(density.shape[1]), density[density.shape[0]//2,:,0], **plotStyles)\n",
    "    plt.plot(range(density.shape[1]), density[-1,:,0], **plotStyles)\n",
    "    xlabel(\"X\"); ylabel(\"Density\"); title(\"A\")\n",
    "    plt.subplot(1,3,2)\n",
    "    plt.plot(range(density.shape[1]), density[0,:,1], **plotStyles)\n",
    "    plt.plot(range(density.shape[1]), density[density.shape[0]//2,:,1], **plotStyles)\n",
    "    plt.plot(range(density.shape[1]), density[-1,:,1], **plotStyles)\n",
    "    xlabel(\"X\"); ylabel(\"Density\"); title(\"B\")\n",
    "    plt.subplot(1,3,3)\n",
    "    plt.plot(range(density.shape[1]), density[0,:,2], **plotStyles)\n",
    "    plt.plot(range(density.shape[1]), density[density.shape[0]//2,:,2], **plotStyles)\n",
    "    plt.plot(range(density.shape[1]), density[-1,:,2], **plotStyles)\n",
    "    xlabel(\"X\"); ylabel(\"Density\"); title(\"A\")\n",
    "    \n",
    "    \n",
    "    # Check the density at the beginning.\n",
    "    if not isclose(density[0,0,0],1.0,1e-6): raise Exception(\"invalid density for 0 at %0.3e %d %d\"%(times[0],0,0))\n",
    "    for i in range(1,density.shape[2]):\n",
    "        if not isclose(density[0,i,0],0.0,1e-6): raise Exception(\"invalid density for 0 at %0.3e %d %d\"%(times[0],i,0))\n",
    "    if not isclose(density[0,-1,1],1.0,1e-6): raise Exception(\"invalid density for 1 at %0.3e %d %d\"%(times[0],0,0))\n",
    "    for i in range(0,density.shape[2]-1):\n",
    "        if not isclose(density[0,i,1],0.0,1e-6): raise Exception(\"invalid density for 1 at %0.3e %d %d\"%(times[0],i,0))\n",
    "    if not isclose(density[0,density.shape[1]//2,2],1.0,1e-6): raise Exception(\"invalid density for 2 at %0.3e %d %d\"%(times[0],0,0))\n",
    "    for i in range(0,density.shape[1]//2):\n",
    "        if not isclose(density[0,i,2],0.0,1e-6): raise Exception(\"invalid density for 2 at %0.3e %d %d\"%(times[0],i,0))\n",
    "    for i in range(density.shape[1]//2+1,density.shape[1]):\n",
    "        if not isclose(density[0,i,2],0.0,1e-6): raise Exception(\"invalid density for 2 at %0.3e %d %d\"%(times[0],i,0))\n",
    "            \n",
    "    # Check the density at the end.\n",
    "    for i in range(0,6):\n",
    "        if not isclose(density[-1,i,0],0.16,0.25): raise Exception(\"invalid density for 0 at %0.3e %d %d: %0.3e\"%(times[-1],i,0,density[-1,i,0]))\n",
    "    for i in range(6,density.shape[1]):\n",
    "        if not isclose(density[-1,i,0],0.0,0.25): raise Exception(\"invalid density for 0 at %0.3e %d %d: %0.3e\"%(times[-1],i,0,density[-1,i,0]))\n",
    "\n",
    "    for i in range(0,5):\n",
    "        if not isclose(density[-1,i,1],0.0,0.25): raise Exception(\"invalid density for 1 at %0.3e %d %d: %0.3e\"%(times[-1],i,0,density[-1,i,1]))\n",
    "    for i in range(5,density.shape[1]):\n",
    "        if not isclose(density[-1,i,1],0.16,0.25): raise Exception(\"invalid density for 1 at %0.3e %d %d: %0.3e\"%(times[-1],i,0,density[-1,i,1]))\n",
    "        \n",
    "    for i in range(0,5):\n",
    "        if not isclose(density[-1,i,2],0.18,0.25): raise Exception(\"invalid density for 2 at %0.3e %d %d: %0.3e\"%(times[-1],i,0,density[-1,i,2]))\n",
    "    if not isclose(density[-1,5,2],0.0,0.25): raise Exception(\"invalid density for 2 at %0.3e %d %d: %0.3e\"%(times[-1],i,0,density[-1,5,2]))\n",
    "    for i in range(6,density.shape[1]):\n",
    "        if not isclose(density[-1,i,2],0.02,0.25): raise Exception(\"invalid density for 2 at %0.3e %d %d: %0.3e\"%(times[-1],i,0,density[-1,i,2]))\n",
    "        \n",
    "#     for k in range(3):\n",
    "#             plt.subplot(rows,cols,(i*3+k)*cols+j+1)\n",
    "#             plt.imshow(np.sum(lc[:,:,:],2).T, origin='lower', interpolation=\"none\", vmin=0.0, vmax=10.0)\n",
    "#             if j == 0:\n",
    "#                 title(\"%s,%d\"%(testName,k))\n",
    "#             else:\n",
    "#                 title(\"t=%0.2f\"%times[latticeIndices[j]])\n",
    "    \n",
    "    \n",
    "#     msd=None\n",
    "#     valuesAdded=0\n",
    "#         origin = np.zeros((counts.shape[1],3))\n",
    "#         if msd is None:\n",
    "#             msd = np.zeros((counts.shape[0],3))\n",
    "#                 pos = np.where(lattice==p)\n",
    "#                 pos = (pos[0][0],pos[1][0],pos[2][0])\n",
    "#                 if ti == 0: origin[p,:] = pos\n",
    "#                 msd[ti,:] += (pos-origin[p])**2\n",
    "#     msd /= len(replicates)*counts.shape[1]\n",
    "#     msd_theory = 2*1e-10*1e12*latticeTimes\n",
    "#     matplotlib.rcParams.update({'font.size': 15, \"figure.figsize\": (15,5)})\n",
    "#     plt.subplot(2,3,1)\n",
    "#     plt.plot(latticeTimes, msd[:,0], 'bx')\n",
    "#     plt.plot(latticeTimes, msd_theory, 'r-')\n",
    "#     xlabel(\"t\"); ylabel(\"MSD ($\\mu$m)\"); title(\"x\")\n",
    "#     plt.subplot(2,3,2)\n",
    "#     plt.plot(latticeTimes, msd[:,1], 'bx')\n",
    "#     plt.plot(latticeTimes, msd_theory, 'r-')\n",
    "#     xlabel(\"t\"); ylabel(\"MSD ($\\mu$m)\"); title(\"y\")\n",
    "#     plt.subplot(2,3,3)\n",
    "#     plt.plot(latticeTimes, msd[:,2], 'bx')\n",
    "#     plt.plot(latticeTimes, msd_theory, 'r-')\n",
    "#     xlabel(\"t\"); ylabel(\"MSD ($\\mu$m)\"); title(\"z\")\n",
    "#     plt.subplot(2,3,4)\n",
    "#     plt.plot(latticeTimes, abs(msd[:,0]-msd_theory)/msd_theory, 'b')\n",
    "#     xlabel(\"t\"); ylabel(\"Error\"); yscale('log');\n",
    "#     plt.subplot(2,3,5)\n",
    "#     plt.plot(latticeTimes, abs(msd[:,1]-msd_theory)/msd_theory, 'b')\n",
    "#     xlabel(\"t\"); ylabel(\"Error\"); yscale('log');\n",
    "#     plt.subplot(2,3,6)\n",
    "#     plt.plot(latticeTimes, abs(msd[:,2]-msd_theory)/msd_theory, 'b')\n",
    "#     xlabel(\"t\"); ylabel(\"Error\"); yscale('log');\n",
    "    \n",
    "#     for i in range(1,6):\n",
    "#         if not isclose(msd[i,0],msd_theory[i],2.5e-1): raise Exception(\"incorrect value for x msd at t=%0.3e msd=%0.3e theory=%0.3e\"%(latticeTimes[i],msd[i,0],msd_theory[i]))\n",
    "#         if not isclose(msd[i,0],msd_theory[i],2.5e-1): raise Exception(\"incorrect value for y msd at t=%0.3e msd=%0.3e theory=%0.3e\"%(latticeTimes[i],msd[i,1],msd_theory[i]))\n",
    "#         if not isclose(msd[i,0],msd_theory[i],2.5e-1): raise Exception(\"incorrect value for z msd at t=%0.3e msd=%0.3e theory=%0.3e\"%(latticeTimes[i],msd[i,2],msd_theory[i]))"
   ]
  },
  {
   "cell_type": "markdown",
   "metadata": {},
   "source": [
    "# Run the tests."
   ]
  },
  {
   "cell_type": "code",
   "execution_count": 270,
   "metadata": {},
   "outputs": [
    {
     "name": "stdout",
     "output_type": "stream",
     "text": [
      "[reflecting_global:test_reflecting]                          : passed.\n"
     ]
    },
    {
     "data": {
      "image/png": "[encoded data removed]",
      "text/plain": [
       "<matplotlib.figure.Figure at 0x7f31674d8a10>"
      ]
     },
     "metadata": {
      "needs_background": "light"
     },
     "output_type": "display_data"
    }
   ],
   "source": [
    "testMethods = {\n",
    "    \"reflecting_global\": [test_reflecting],\n",
    "}\n",
    "\n",
    "matplotlib.rcParams.update({'font.size': 15, \"figure.figsize\": (20,5)})\n",
    "i=1\n",
    "for testName in testNames:\n",
    "    for i,testMethod in enumerate(testMethods[testName]):\n",
    "        try:\n",
    "            testOutputFilename=\"tmp/%s.lm\"%(testName)\n",
    "            testMethod(testOutputFilename)\n",
    "        except Exception as e:\n",
    "            print \"%-60s : FAILED with:\"%(\"[\"+testName+\":\"+testMethod.__name__+\"]\"),e\n",
    "        except:\n",
    "            print \"%-60s : FAILED with: Unknown exception\"%(\"[\"+testName+\":\"+testMethod.__name__+\"]\")\n",
    "        else:\n",
    "            print \"%-60s : passed.\"%(\"[\"+testName+\":\"+testMethod.__name__+\"]\")\n",
    "        plt.tight_layout()\n",
    "        plt.show()\n",
    "pass"
   ]
  },
  {
   "cell_type": "code",
   "execution_count": 271,
   "metadata": {},
   "outputs": [],
   "source": [
    "%%bash\n",
    "rm -rf tmp"
   ]
  },
  {
   "cell_type": "code",
   "execution_count": null,
   "metadata": {},
   "outputs": [],
   "source": []
  }
 ],
 "metadata": {
  "kernelspec": {
   "display_name": "Python 2",
   "language": "python",
   "name": "python2"
  },
  "language_info": {
   "codemirror_mode": {
    "name": "ipython",
    "version": 2
   },
   "file_extension": ".py",
   "mimetype": "text/x-python",
   "name": "python",
   "nbconvert_exporter": "python",
   "pygments_lexer": "ipython2",
   "version": "2.7.15rc1"
  }
 },
 "nbformat": 4,
 "nbformat_minor": 1
}
