{
 "cells": [
  {
   "cell_type": "code",
   "execution_count": 1,
   "metadata": {},
   "outputs": [],
   "source": [
    "%matplotlib inline\n",
    "from __future__ import division\n",
    "import matplotlib\n",
    "import numpy as np\n",
    "from pylab import *\n",
    "import os\n",
    "matplotlib.rcParams.update({\"axes.formatter.limits\": (-4,4)})\n",
    "plotStyles={\"markersize\":12,\"markeredgewidth\":3.0,\"linewidth\":3.0}\n",
    "stepStyles={\"markersize\":12,\"markeredgewidth\":3.0,\"linewidth\":3.0,\"where\":\"post\"}\n",
    "np.seterr(divide='ignore',invalid='ignore')\n",
    "pass"
   ]
  },
  {
   "cell_type": "markdown",
   "metadata": {},
   "source": [
    "### Setup the notebook."
   ]
  },
  {
   "cell_type": "code",
   "execution_count": 2,
   "metadata": {},
   "outputs": [],
   "source": [
    "import h5py\n",
    "import math\n",
    "testNames=[\"yeast_calcium_homeostasis\"]\n",
    "test_names_bash_list=\" \".join(testNames)\n",
    "def isclose(a, b, rel_tol=1e-09, abs_tol=0.0):\n",
    "    return abs(a-b) <= max(rel_tol * max(abs(a), abs(b)), abs_tol)"
   ]
  },
  {
   "cell_type": "code",
   "execution_count": 3,
   "metadata": {},
   "outputs": [],
   "source": [
    "%%bash\n",
    "rm -rf tmp && mkdir tmp"
   ]
  },
  {
   "cell_type": "markdown",
   "metadata": {},
   "source": [
    "### Execute the SBML imports."
   ]
  },
  {
   "cell_type": "code",
   "execution_count": 4,
   "metadata": {},
   "outputs": [
    {
     "name": "stdout",
     "output_type": "stream",
     "text": [
      "Finished.\n"
     ]
    }
   ],
   "source": [
    "%%bash -s \"$test_names_bash_list\"\n",
    "for testName in $1; do\n",
    "    inputFilename=${testName}.xml\n",
    "    outputFilename=tmp/${testName}.lm\n",
    "    rm -f ${outputFilename}*\n",
    "    if [[ ${testName} == yeast_calcium_homeostasis ]]; then\n",
    "        lm_sbml_import --verbose --verbose --copasi --ignore-variable-parameters ${outputFilename} ${inputFilename} 2>&1 > ${outputFilename}.log\n",
    "    else\n",
    "        echo \"Invalid test name: ${testName}\"\n",
    "        continue\n",
    "    fi\n",
    "done;\n",
    "echo \"Finished.\""
   ]
  },
  {
   "cell_type": "markdown",
   "metadata": {},
   "source": [
    "### Define the tests."
   ]
  },
  {
   "cell_type": "code",
   "execution_count": 5,
   "metadata": {},
   "outputs": [],
   "source": [
    "def test_dimerization_reversible(testOutputFilename):\n",
    "    fp = h5py.File(testOutputFilename, \"r\")\n",
    "    nr=fp[\"/Model/Reaction/\"].attrs[\"numberReactions\"]\n",
    "    ns=fp[\"/Model/Reaction/\"].attrs[\"numberSpecies\"]\n",
    "    D=fp[\"/Model/Reaction/DependencyMatrix\"]\n",
    "    C=fp[\"/Model/Reaction/InitialSpeciesCounts\"]\n",
    "    K=fp[\"/Model/Reaction/ReactionRateConstants\"]\n",
    "    R=fp[\"/Model/Reaction/ReactionTypes\"]\n",
    "    S=fp[\"/Model/Reaction/StoichiometricMatrix\"]\n",
    "    if nr != 2: raise Exception(\"numberReactions: incorrect value\")\n",
    "    if ns != 2: raise Exception(\"numberSpecies: incorrect value\")\n",
    "    if D.shape != (2,2): raise Exception(\"D: incorrect shape\",D.shape)\n",
    "    if D[0,0] != 1: raise Exception(\"D: incorrect value\")\n",
    "    if D[0,1] != 0: raise Exception(\"D: incorrect value\")\n",
    "    if D[1,0] != 0: raise Exception(\"D: incorrect value\")\n",
    "    if D[1,1] != 1: raise Exception(\"D: incorrect value\")\n",
    "    if C.shape != (ns,): raise Exception(\"C: incorrect shape\")\n",
    "    if C[0] != 2000: raise Exception(\"C: incorrect value\")\n",
    "    if K.shape != (nr,10): raise Exception(\"K: incorrect shape\")\n",
    "    if not isclose(K[0,0],0.95,1e-4): raise Exception(\"K: incorrect value\")\n",
    "    for i in range(1,10):\n",
    "        if not math.isnan(K[0,i]): raise Exception(\"K: incorrect nan value\")\n",
    "    if not isclose(K[1,0],10.0,1e-4): raise Exception(\"K: incorrect value\")\n",
    "    for i in range(1,10):\n",
    "        if not math.isnan(K[1,i]): raise Exception(\"K: incorrect nan value\")\n",
    "    if R.shape != (nr,): raise Exception(\"R: incorrect shape\")\n",
    "    if R[0] != 3: raise Exception(\"R: incorrect value\")\n",
    "    if R[1] != 1: raise Exception(\"R: incorrect value\")\n",
    "    if S.shape != (2,2): raise Exception(\"S: incorrect shape\")\n",
    "    if S[0,0] != -2: raise Exception(\"S: incorrect value\")\n",
    "    if S[0,1] != 2: raise Exception(\"S: incorrect value\")\n",
    "    if S[1,0] != 1: raise Exception(\"S: incorrect value\")\n",
    "    if S[1,1] != -1: raise Exception(\"S: incorrect value\")\n",
    "    fp.close()"
   ]
  },
  {
   "cell_type": "code",
   "execution_count": 6,
   "metadata": {},
   "outputs": [],
   "source": [
    "def test_first_order_birth_death(testOutputFilename):\n",
    "    fp = h5py.File(testOutputFilename, \"r\")\n",
    "    nr=fp[\"/Model/Reaction/\"].attrs[\"numberReactions\"]\n",
    "    ns=fp[\"/Model/Reaction/\"].attrs[\"numberSpecies\"]\n",
    "    D=fp[\"/Model/Reaction/DependencyMatrix\"]\n",
    "    C=fp[\"/Model/Reaction/InitialSpeciesCounts\"]\n",
    "    K=fp[\"/Model/Reaction/ReactionRateConstants\"]\n",
    "    R=fp[\"/Model/Reaction/ReactionTypes\"]\n",
    "    S=fp[\"/Model/Reaction/StoichiometricMatrix\"]\n",
    "    if nr != 2: raise Exception(\"numberReactions: incorrect value\")\n",
    "    if ns != 1: raise Exception(\"numberSpecies: incorrect value\")\n",
    "    if D.shape != (1,2): raise Exception(\"D: incorrect shape\",D.shape)\n",
    "    if D[0,0] != 0: raise Exception(\"D: incorrect value\")\n",
    "    if D[0,1] != 1: raise Exception(\"D: incorrect value\")\n",
    "    if C.shape != (ns,): raise Exception(\"C: incorrect shape\")\n",
    "    if C[0] != 1000: raise Exception(\"C: incorrect value\")\n",
    "    if K.shape != (nr,10): raise Exception(\"K: incorrect shape\")\n",
    "    if not isclose(K[0,0],1000.0,1e-4): raise Exception(\"K: incorrect value\")\n",
    "    for i in range(1,10):\n",
    "        if not math.isnan(K[0,i]): raise Exception(\"K: incorrect nan value\")\n",
    "    if not isclose(K[1,0],10.0,1e-4): raise Exception(\"K: incorrect value\")\n",
    "    for i in range(1,10):\n",
    "        if not math.isnan(K[1,i]): raise Exception(\"K: incorrect nan value\")\n",
    "    if R.shape != (nr,): raise Exception(\"R: incorrect shape\")\n",
    "    if R[0] != 0: raise Exception(\"R: incorrect value\")\n",
    "    if R[1] != 1: raise Exception(\"R: incorrect value\")\n",
    "    if S.shape != (1,2): raise Exception(\"S: incorrect shape\")\n",
    "    if S[0,0] != 1: raise Exception(\"S: incorrect value\")\n",
    "    if S[0,1] != -1: raise Exception(\"S: incorrect value\")\n",
    "    fp.close()"
   ]
  },
  {
   "cell_type": "code",
   "execution_count": 7,
   "metadata": {},
   "outputs": [],
   "source": [
    "def test_second_order_reversible(testOutputFilename):\n",
    "    fp = h5py.File(testOutputFilename, \"r\")\n",
    "    nr=fp[\"/Model/Reaction/\"].attrs[\"numberReactions\"]\n",
    "    ns=fp[\"/Model/Reaction/\"].attrs[\"numberSpecies\"]\n",
    "    D=fp[\"/Model/Reaction/DependencyMatrix\"]\n",
    "    C=fp[\"/Model/Reaction/InitialSpeciesCounts\"]\n",
    "    K=fp[\"/Model/Reaction/ReactionRateConstants\"]\n",
    "    R=fp[\"/Model/Reaction/ReactionTypes\"]\n",
    "    S=fp[\"/Model/Reaction/StoichiometricMatrix\"]\n",
    "    if nr != 2: raise Exception(\"numberReactions: incorrect value\")\n",
    "    if ns != 3: raise Exception(\"numberSpecies: incorrect value\")\n",
    "    if D.shape != (3,2): raise Exception(\"D: incorrect shape\",D.shape)\n",
    "    if D[0,0] != 1: raise Exception(\"D: incorrect value\")\n",
    "    if D[0,1] != 0: raise Exception(\"D: incorrect value\")\n",
    "    if D[1,0] != 2: raise Exception(\"D: incorrect value\")\n",
    "    if D[1,1] != 0: raise Exception(\"D: incorrect value\")\n",
    "    if D[2,0] != 0: raise Exception(\"D: incorrect value\")\n",
    "    if D[2,1] != 1: raise Exception(\"D: incorrect value\")\n",
    "    if C.shape != (ns,): raise Exception(\"C: incorrect shape\")\n",
    "    if C[0] != 1000: raise Exception(\"C: incorrect value\")\n",
    "    if K.shape != (nr,10): raise Exception(\"K: incorrect shape\")\n",
    "    if not isclose(K[0,0],0.9,1e-4): raise Exception(\"K: incorrect value\")\n",
    "    for i in range(1,10):\n",
    "        if not math.isnan(K[0,i]): raise Exception(\"K: incorrect nan value\")\n",
    "    if not isclose(K[1,0],10.0,1e-4): raise Exception(\"K: incorrect value\")\n",
    "    for i in range(1,10):\n",
    "        if not math.isnan(K[1,i]): raise Exception(\"K: incorrect nan value\")\n",
    "    if R.shape != (nr,): raise Exception(\"R: incorrect shape\")\n",
    "    if R[0] != 2: raise Exception(\"R: incorrect value\")\n",
    "    if R[1] != 1: raise Exception(\"R: incorrect value\")\n",
    "    if S.shape != (3,2): raise Exception(\"S: incorrect shape\")\n",
    "    if S[0,0] != -1: raise Exception(\"S: incorrect value\")\n",
    "    if S[0,1] != 1: raise Exception(\"S: incorrect value\")\n",
    "    if S[1,0] != -1: raise Exception(\"S: incorrect value\")\n",
    "    if S[1,1] != 1: raise Exception(\"S: incorrect value\")\n",
    "    if S[2,0] != 1: raise Exception(\"S: incorrect value\")\n",
    "    if S[2,1] != -1: raise Exception(\"S: incorrect value\")\n",
    "    fp.close()"
   ]
  },
  {
   "cell_type": "code",
   "execution_count": 8,
   "metadata": {},
   "outputs": [],
   "source": [
    "def test_self_regulating_gene(testOutputFilename):\n",
    "    fp = h5py.File(testOutputFilename, \"r\")\n",
    "    nr=fp[\"/Model/Reaction/\"].attrs[\"numberReactions\"]\n",
    "    ns=fp[\"/Model/Reaction/\"].attrs[\"numberSpecies\"]\n",
    "    D=fp[\"/Model/Reaction/DependencyMatrix\"]\n",
    "    C=fp[\"/Model/Reaction/InitialSpeciesCounts\"]\n",
    "    K=fp[\"/Model/Reaction/ReactionRateConstants\"]\n",
    "    R=fp[\"/Model/Reaction/ReactionTypes\"]\n",
    "    S=fp[\"/Model/Reaction/StoichiometricMatrix\"]\n",
    "    if nr != 2: raise Exception(\"numberReactions: incorrect value\")\n",
    "    if ns != 1: raise Exception(\"numberSpecies: incorrect value\")\n",
    "    if D.shape != (ns,nr): raise Exception(\"D: incorrect shape\",D.shape)\n",
    "    if D[0,0] != 1: raise Exception(\"D: incorrect value\")\n",
    "    if D[0,1] != 1: raise Exception(\"D: incorrect value\")\n",
    "    if C.shape != (ns,): raise Exception(\"C: incorrect shape\")\n",
    "    if C[0] != 100: raise Exception(\"C: incorrect value\")\n",
    "    if K.shape != (nr,10): raise Exception(\"K: incorrect shape\")\n",
    "    if not isclose(K[0,0],50,1e-4): raise Exception(\"K: incorrect value\")\n",
    "    if not isclose(K[0,1],50,1e-4): raise Exception(\"K: incorrect value\")\n",
    "    if not isclose(K[0,2],1000-50,1e-4): raise Exception(\"K: incorrect value\")\n",
    "    if not isclose(K[0,3],2,1e-4): raise Exception(\"K: incorrect value\")\n",
    "    for i in range(4,10):\n",
    "        if not math.isnan(K[0,i]): raise Exception(\"K: incorrect nan value\")\n",
    "    if not isclose(K[1,0],10.0,1e-4): raise Exception(\"K: incorrect value\")\n",
    "    for i in range(1,10):\n",
    "        if not math.isnan(K[1,i]): raise Exception(\"K: incorrect nan value\")\n",
    "    if R.shape != (nr,): raise Exception(\"R: incorrect shape\")\n",
    "    if R[0] != 8008: raise Exception(\"R: incorrect value\")\n",
    "    if R[1] != 1: raise Exception(\"R: incorrect value\")\n",
    "    if S.shape != (1,2): raise Exception(\"S: incorrect shape\")\n",
    "    if S[0,0] != 1: raise Exception(\"S: incorrect value\")\n",
    "    if S[0,1] != -1: raise Exception(\"S: incorrect value\")\n",
    "    fp.close()"
   ]
  },
  {
   "cell_type": "markdown",
   "metadata": {},
   "source": [
    "### Run the tests."
   ]
  },
  {
   "cell_type": "code",
   "execution_count": 9,
   "metadata": {},
   "outputs": [
    {
     "name": "stdout",
     "output_type": "stream",
     "text": [
      "[yeast_calcium_homeostasis]                                  : FAILED with: 'yeast_calcium_homeostasis'\n"
     ]
    }
   ],
   "source": [
    "testMethods = {\"dimerization_reversible_mol_min\": test_dimerization_reversible,\n",
    "              \"dimerization_reversible_mol_sec\": test_dimerization_reversible,\n",
    "              \"dimerization_reversible_particle_min\": test_dimerization_reversible,\n",
    "              \"dimerization_reversible_particle_sec\": test_dimerization_reversible,\n",
    "              \"first_order_birth_death_mol_min\": test_first_order_birth_death,\n",
    "              \"first_order_birth_death_mol_sec\": test_first_order_birth_death,\n",
    "              \"first_order_birth_death_particle_min\": test_first_order_birth_death,\n",
    "              \"first_order_birth_death_particle_sec\": test_first_order_birth_death,\n",
    "              \"second_order_reversible_mol_min\": test_second_order_reversible,\n",
    "              \"second_order_reversible_mol_sec\": test_second_order_reversible,\n",
    "              \"second_order_reversible_particle_min\": test_second_order_reversible,\n",
    "              \"second_order_reversible_particle_sec\": test_second_order_reversible,\n",
    "              \"self_regulating_gene_particle_sec_1\": test_self_regulating_gene,\n",
    "              \"self_regulating_gene_particle_sec\": test_self_regulating_gene,\n",
    "              \"self_regulating_gene_particle_min\": test_self_regulating_gene}\n",
    "for testName in testNames:\n",
    "    try:\n",
    "        testOutputFilename=\"tmp/%s.lm\"%(testName)\n",
    "        testMethods[testName](testOutputFilename)\n",
    "    except Exception as e:\n",
    "        print \"%-60s : FAILED with:\"%(\"[\"+testName+\"]\"),e\n",
    "    except:\n",
    "        print \"%-60s : FAILED with: Unknown exception\"%(\"[\"+testName+\"]\")\n",
    "    else:\n",
    "        print \"%-60s : passed.\"%(\"[\"+testName+\"]\")"
   ]
  },
  {
   "cell_type": "code",
   "execution_count": 10,
   "metadata": {},
   "outputs": [],
   "source": [
    "%%bash\n",
    "rm -rf tmp"
   ]
  },
  {
   "cell_type": "code",
   "execution_count": null,
   "metadata": {
    "collapsed": true
   },
   "outputs": [],
   "source": []
  }
 ],
 "metadata": {
  "kernelspec": {
   "display_name": "Python 2",
   "language": "python",
   "name": "python2"
  },
  "language_info": {
   "codemirror_mode": {
    "name": "ipython",
    "version": 2
   },
   "file_extension": ".py",
   "mimetype": "text/x-python",
   "name": "python",
   "nbconvert_exporter": "python",
   "pygments_lexer": "ipython2",
   "version": "2.7.15rc1"
  }
 },
 "nbformat": 4,
 "nbformat_minor": 1
}
