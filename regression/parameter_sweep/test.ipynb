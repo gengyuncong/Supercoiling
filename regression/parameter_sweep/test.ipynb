{
 "cells": [
  {
   "cell_type": "code",
   "execution_count": 1,
   "metadata": {},
   "outputs": [
    {
     "data": {
      "application/javascript": [
       "IPython.OutputArea.prototype._should_scroll = function(lines) {\n",
       "    return false;\n",
       "}"
      ],
      "text/plain": [
       "<IPython.core.display.Javascript object>"
      ]
     },
     "metadata": {},
     "output_type": "display_data"
    }
   ],
   "source": [
    "%%javascript\n",
    "IPython.OutputArea.prototype._should_scroll = function(lines) {\n",
    "    return false;\n",
    "}"
   ]
  },
  {
   "cell_type": "code",
   "execution_count": 2,
   "metadata": {},
   "outputs": [],
   "source": [
    "%matplotlib inline\n",
    "from __future__ import division\n",
    "import matplotlib\n",
    "import numpy as np\n",
    "from pylab import *\n",
    "import os\n",
    "matplotlib.rcParams.update({\"axes.formatter.limits\": (-4,4)})\n",
    "plotStyles={\"markersize\":20,\"markeredgewidth\":3.0,\"linewidth\":3.0}\n",
    "stepStyles={\"markersize\":20,\"markeredgewidth\":3.0,\"linewidth\":3.0,\"where\":\"post\"}\n",
    "np.seterr(divide='ignore',invalid='ignore')\n",
    "pass"
   ]
  },
  {
   "cell_type": "markdown",
   "metadata": {},
   "source": [
    "### Setup the notebook."
   ]
  },
  {
   "cell_type": "code",
   "execution_count": 3,
   "metadata": {},
   "outputs": [],
   "source": [
    "import h5py\n",
    "import math\n",
    "testNames=[\n",
    "           \"first_order_birth_death_1\",\n",
    "          ]\n",
    "test_names_bash_list=\" \".join(testNames)\n",
    "def isclose(a, b, rel_tol=1e-09, abs_tol=0.0):\n",
    "    return abs(a-b) <= max(rel_tol * max(abs(a), abs(b)), abs_tol)"
   ]
  },
  {
   "cell_type": "code",
   "execution_count": 4,
   "metadata": {},
   "outputs": [],
   "source": [
    "%%bash\n",
    "rm -rf tmp && mkdir tmp"
   ]
  },
  {
   "cell_type": "markdown",
   "metadata": {},
   "source": [
    "### Execute the simulations."
   ]
  },
  {
   "cell_type": "code",
   "execution_count": 5,
   "metadata": {},
   "outputs": [
    {
     "name": "stdout",
     "output_type": "stream",
     "text": [
      "Finished.\n"
     ]
    }
   ],
   "source": [
    "%%bash -s \"$test_names_bash_list\"\n",
    "sbmlFilename=\"first_order_birth_death.sbml\"\n",
    "for testName in $1; do\n",
    "    outputFilename=tmp/${testName}.lm\n",
    "    rm -f ${outputFilename}* && lm_sbml_import ${outputFilename} ${sbmlFilename} > ${outputFilename}.import.log\n",
    "    \n",
    "    if [[ ${testName} == *_1 ]]; then\n",
    "        lmes -r 1-100 -f ${outputFilename},${testName}.properties -c 4 -nr -sw -swp 3 -swf ${testName}.dat -sl lm::cme::NextReactionSolver -pf 2 -rnp > ${outputFilename}.simulate.log\n",
    "    fi\n",
    "done;\n",
    "echo \"Finished.\""
   ]
  },
  {
   "cell_type": "markdown",
   "metadata": {},
   "source": [
    "### Spot check some simulations."
   ]
  },
  {
   "cell_type": "code",
   "execution_count": 6,
   "metadata": {},
   "outputs": [
    {
     "data": {
      "image/png": "[encoded data removed]",
      "text/plain": [
       "<Figure size 1080x288 with 2 Axes>"
      ]
     },
     "metadata": {
      "needs_background": "light"
     },
     "output_type": "display_data"
    }
   ],
   "source": [
    "# Plot the time series for a single replicate.\n",
    "for i,testName in enumerate(testNames):\n",
    "    testOutputFilename=\"tmp/%s.lm\"%(testName)\n",
    "    fp = h5py.File(testOutputFilename, \"r\")\n",
    "    cols=2\n",
    "    rows=len(testNames)\n",
    "    if rows*cols < len(testNames): rows += 1\n",
    "    matplotlib.rcParams.update({'font.size': 15, \"figure.figsize\": (15,4*rows)})\n",
    "    subplot(rows,cols,i*cols+1)\n",
    "    for paramName in (\"P0\",\"P1\",\"P2\",\"P3\",\"P4\"):\n",
    "        for replicate in (1,):\n",
    "            counts=np.array(fp[\"/Sweep/%s/Simulations/%07d/SpeciesCounts\"%(paramName,replicate)], dtype=double)\n",
    "            times=np.array(fp[\"/Sweep/%s/Simulations/%07d/SpeciesCountTimes\"%(paramName,replicate)], dtype=double)\n",
    "            step(times,counts[:,0], **stepStyles)\n",
    "    xlabel('t'); xscale('log'); ylabel('# Molecules'); yscale('log'); title(\"%s\"%(testName))\n",
    "    subplot(rows,cols,i*cols+2)\n",
    "    for paramName in (\"P5\",\"P6\",\"P7\",\"P8\",\"P9\"):\n",
    "        for replicate in (1,):\n",
    "            counts=np.array(fp[\"/Sweep/%s/Simulations/%07d/SpeciesCounts\"%(paramName,replicate)], dtype=double)\n",
    "            times=np.array(fp[\"/Sweep/%s/Simulations/%07d/SpeciesCountTimes\"%(paramName,replicate)], dtype=double)\n",
    "            step(times,counts[:,0], **stepStyles)\n",
    "    xlabel('t'); xscale('log'); ylabel('# Molecules'); yscale('log'); title(\"%s\"%(testName))\n",
    "    fp.close()\n",
    "plt.tight_layout()\n",
    "pass"
   ]
  },
  {
   "cell_type": "markdown",
   "metadata": {},
   "source": [
    "### Define the tests."
   ]
  },
  {
   "cell_type": "code",
   "execution_count": 7,
   "metadata": {},
   "outputs": [],
   "source": [
    "def test_first_order_birth_death_1(testOutputFilename):\n",
    "    fp = h5py.File(testOutputFilename, \"r\")\n",
    "    paramNames = (\"P0\",\"P1\",\"P2\",\"P3\",\"P4\",\"P5\",\"P6\",\"P7\",\"P8\",\"P9\")\n",
    "    paramMeans = (1e5,1e4,1e3,1e2,1e1,1e1,1e2,1e3,1e4,1e5)\n",
    "    paramTimes = (1e2,1e2,1e2,1e2,1e2,1e2,1e2,1e2,1e2,1e3)\n",
    "    sweeps=fp[\"/Sweep\"].keys()\n",
    "    if len(sweeps) != len(paramNames): raise Exception(\"incorrect number of parameters in sweep\",value)\n",
    "    for paramIndex in range(len(paramNames)):\n",
    "        replicates=fp[\"/Sweep/%s/Simulations\"%(paramNames[paramIndex])].keys()\n",
    "        if len(replicates) != 100: raise Exception(\"incorrect number of replicates in parameter\",paramNames[paramIndex])\n",
    "        k=0\n",
    "        mSim=None\n",
    "        vSim=None\n",
    "        times=None\n",
    "        for replicate in replicates:\n",
    "            times = np.array(fp[\"/Sweep/%s/Simulations/%s/SpeciesCountTimes\"%(paramNames[paramIndex],replicate)], dtype=double)\n",
    "            counts = np.array(fp[\"/Sweep/%s/Simulations/%s/SpeciesCounts\"%(paramNames[paramIndex],replicate)], dtype=double)\n",
    "            if not isclose(times[-1], paramTimes[paramIndex]): raise Exception(\"incorrect max time for parameter\",paramNames[paramIndex])\n",
    "            if mSim is None:\n",
    "                k += 1\n",
    "                mSim = counts\n",
    "                vSim = np.zeros(counts.shape, dtype=double)\n",
    "            else:\n",
    "                k += 1\n",
    "                mSim = mSim + (counts-mSim)/k\n",
    "                vSim = vSim + (counts-mSim)*(counts-mSim)\n",
    "        vSim /= float((k-1))\n",
    "        \n",
    "    \n",
    "        # Plot the accuracy of the mean and variance.\n",
    "        matplotlib.rcParams.update({'font.size': 15, \"figure.figsize\": (15,3)})\n",
    "        ax=plt.subplot(1,2,1)\n",
    "        plt.plot(times,mSim, **plotStyles)\n",
    "        ax.set_yscale('log'); xlabel('t'); ax.set_xscale('log'); ylabel('E{X(t)}'); title(\"%s\"%(testOutputFilename))\n",
    "        ax=plt.subplot(1,2,2)\n",
    "        plt.plot(times,vSim, **plotStyles)\n",
    "        ax.set_yscale('log'); xlabel('t'); ax.set_xscale('log'); ylabel('Var{X(t)}'); title(\"%s\"%(testOutputFilename))\n",
    "\n",
    "        value = np.mean(mSim[len(mSim)//2:])\n",
    "        if not isclose(value,paramMeans[paramIndex],1e-2): raise Exception(\"incorrect value for mean\",value)\n",
    "        value = np.mean(vSim[len(mSim)//2:])\n",
    "        if not isclose(value,paramMeans[paramIndex],2e-1): raise Exception(\"incorrect value for variance\",value)\n",
    "            \n",
    "    fp.close()            "
   ]
  },
  {
   "cell_type": "markdown",
   "metadata": {},
   "source": [
    "### Run the tests."
   ]
  },
  {
   "cell_type": "code",
   "execution_count": 8,
   "metadata": {},
   "outputs": [
    {
     "name": "stderr",
     "output_type": "stream",
     "text": [
      "/usr/lib/python2.7/dist-packages/matplotlib/cbook/deprecation.py:107: MatplotlibDeprecationWarning: Adding an axes using the same arguments as a previous axes currently reuses the earlier instance.  In a future version, a new instance will always be created and returned.  Meanwhile, this warning can be suppressed, and the future behavior ensured, by passing a unique label to each axes instance.\n",
      "  warnings.warn(message, mplDeprecation, stacklevel=1)\n"
     ]
    },
    {
     "name": "stdout",
     "output_type": "stream",
     "text": [
      "[first_order_birth_death_1]                                  : passed.\n"
     ]
    },
    {
     "data": {
      "image/png": "[encoded data removed]",
      "text/plain": [
       "<Figure size 1080x216 with 2 Axes>"
      ]
     },
     "metadata": {
      "needs_background": "light"
     },
     "output_type": "display_data"
    }
   ],
   "source": [
    "testMethods = {\n",
    "               \"first_order_birth_death_1\": test_first_order_birth_death_1,\n",
    "              }\n",
    "matplotlib.rcParams.update({'font.size': 15, \"figure.figsize\": (20,5*len(testNames))})\n",
    "i=1\n",
    "for testName in testNames:\n",
    "    try:\n",
    "        testOutputFilename=\"tmp/%s.lm\"%(testName)\n",
    "        testMethods[testName](testOutputFilename)\n",
    "    except Exception as e:\n",
    "        print \"%-60s : FAILED with:\"%(\"[\"+testName+\"]\"),e\n",
    "    except:\n",
    "        print \"%-60s : FAILED with: Unknown exception\"%(\"[\"+testName+\"]\")\n",
    "    else:\n",
    "        print \"%-60s : passed.\"%(\"[\"+testName+\"]\")\n",
    "    plt.tight_layout()\n",
    "    plt.show()\n",
    "pass"
   ]
  },
  {
   "cell_type": "code",
   "execution_count": 9,
   "metadata": {},
   "outputs": [],
   "source": [
    "%%bash\n",
    "rm -rf tmp"
   ]
  },
  {
   "cell_type": "code",
   "execution_count": null,
   "metadata": {},
   "outputs": [],
   "source": []
  }
 ],
 "metadata": {
  "kernelspec": {
   "display_name": "Python 2",
   "language": "python",
   "name": "python2"
  },
  "language_info": {
   "codemirror_mode": {
    "name": "ipython",
    "version": 2
   },
   "file_extension": ".py",
   "mimetype": "text/x-python",
   "name": "python",
   "nbconvert_exporter": "python",
   "pygments_lexer": "ipython2",
   "version": "2.7.16"
  }
 },
 "nbformat": 4,
 "nbformat_minor": 1
}
