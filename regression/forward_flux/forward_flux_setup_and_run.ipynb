{
 "cells": [
  {
   "cell_type": "code",
   "execution_count": 1,
   "metadata": {
    "collapsed": false
   },
   "outputs": [
    {
     "name": "stdout",
     "output_type": "stream",
     "text": [
      "Populating the interactive namespace from numpy and matplotlib\n"
     ]
    }
   ],
   "source": [
    "%pylab inline\n",
    "%load_ext autoreload\n",
    "%autoreload 2\n",
    "\n",
    "from lm_anal.script.lmFile import Input,InitialSpeciesCounts,InitialSpeciesCountsBackward,OrderParameter,SimulationParameter,Tiling\n",
    "from lm_anal.src.main import Sim"
   ]
  },
  {
   "cell_type": "code",
   "execution_count": 2,
   "metadata": {
    "collapsed": false
   },
   "outputs": [
    {
     "name": "stdout",
     "output_type": "stream",
     "text": [
      "lm_sbml_import v2016.02.12 build 1\n",
      "Copyright (C) 2008-2012 Luthey-Schulten Group, University of Illinois at Urbana-Champaign.\n",
      "Copyright (C) 2012-2016 Roberts Group, Johns Hopkins University.\n",
      "\n",
      "\n",
      "Done.\n"
     ]
    }
   ],
   "source": [
    "%%bash\n",
    "dirname=data/1\n",
    "filename=${dirname}/genetic_toggle_switch.lm\n",
    "mkdir -p ${dirname}\n",
    "rm -f ${filename} && lm_sbml_import ${filename} genetic_toggle_switch.sbml"
   ]
  },
  {
   "cell_type": "code",
   "execution_count": 3,
   "metadata": {
    "collapsed": false
   },
   "outputs": [
    {
     "name": "stdout",
     "output_type": "stream",
     "text": [
      "SimulationParameter(key='maxSteps', val='10000000000')\n",
      "SimulationParameter(key='maxTime', val='10000000000')\n",
      "SimulationParameter(key='maxWorkUnitSteps', val='1000000000000000')\n",
      "SimulationParameter(key='writeInterval', val='4.0')\n",
      "SimulationParameter(key='maxCrossingsZero', val='1000')\n",
      "SimulationParameter(key='maxCrossingsN', val='1000')\n"
     ]
    }
   ],
   "source": [
    "ffluxInput = Input('data/1/genetic_toggle_switch.lm')\n",
    "\n",
    "iSCs = InitialSpeciesCounts(speciesCounts=[4,16,1,0,0,0,0])\n",
    "ffluxInput.SetInitialSpeciesCounts(iSCs=iSCs)\n",
    "\n",
    "iSCBs = InitialSpeciesCountsBackward(speciesCounts=[0,0,0,4,16,1,0])\n",
    "ffluxInput.SetInitialSpeciesCountsBackward(iSCBs=iSCBs)\n",
    "\n",
    "ops = [\n",
    "OrderParameter(type=0,\n",
    "               id=0,\n",
    "               speciesIDs=[0,1,2,3,4,5],\n",
    "               speciesCoefficients=[-1,-2,-2,1,2,2])]\n",
    "ffluxInput.SetOrderParameters(ops=ops)\n",
    "\n",
    "# general simulation parameters\n",
    "simParams = [SimulationParameter(key='maxSteps',         val=str(int(1e10))),\n",
    "             SimulationParameter(key='maxTime',          val=str(int(1e10))),\n",
    "             SimulationParameter(key='maxWorkUnitSteps', val=str(int(1e15))),\n",
    "             SimulationParameter(key='writeInterval',    val='4.0')]\n",
    "\n",
    "# forward flux specific simulation parameters\n",
    "simParams+= [SimulationParameter(key='maxCrossingsZero', val=str(int(1e3))),\n",
    "             SimulationParameter(key='maxCrossingsN',    val=str(int(1e3)))]\n",
    "ffluxInput.SetSimulationParameters(simParams=simParams)\n",
    "\n",
    "tilings = [\n",
    "    Tiling(id=0,\n",
    "           orderParameterID=0,\n",
    "           type=0,\n",
    "           edges=np.linspace(-27,27,13)),\n",
    "    Tiling(id=3,\n",
    "           orderParameterID=0,\n",
    "           type=0,\n",
    "           edges=np.arange(-100,100))]\n",
    "ffluxInput.AddTilings(tilings=tilings, currentTilingID=0)\n",
    "\n",
    "ffluxInput.Close()"
   ]
  },
  {
   "cell_type": "code",
   "execution_count": 4,
   "metadata": {
    "collapsed": false
   },
   "outputs": [
    {
     "name": "stdout",
     "output_type": "stream",
     "text": [
      "Execute the following command in /Users/tel/git/lm_mpi_thread_multiple/regression/forward_flux:\n",
      "Lattice Microbe ES v2016.02.12 build 1 in 64-bit mode with options MPI AVX.\n",
      "Copyright (C) 2008-2012 Luthey-Schulten Group, University of Illinois at Urbana-Champaign.\n",
      "Copyright (C) 2012-2016 Roberts Group, Johns Hopkins University.\n",
      "\n",
      "MPI version 3.0 with thread support MPI_THREAD_MULTIPLE.\n",
      "Running with 1 process(es).\n",
      "\n",
      "2016-02-16 17:08:41) Resource controller 0:1 started.\n",
      "2016-02-16 17:08:41) Supervisor 0:2 started.\n",
      "2016-02-16 17:08:41) Resource controller 0:1 on tels_macbook registered with 8 cpu core(s) and 0 gpu device(s).\n",
      "2016-02-16 17:08:41) Registered resources for host tels_macbook (defaults=1): 5 cpu cores, 0 gpu devices\n",
      "2016-02-16 17:08:41) All resources registered with supervisor, starting workers.\n",
      "2016-02-16 17:08:41) Reserved core 0 on 0:1 for the output writer.\n",
      "2016-02-16 17:08:41) Creating slot 0 on process (0:1) using resources: tels_macbook; cpu core list:1; gpu device list:<none>.\n",
      "2016-02-16 17:08:41) OutputWriter 0:3 started.\n",
      "2016-02-16 17:08:41) Creating slot 1 on process (0:1) using resources: tels_macbook; cpu core list:2; gpu device list:<none>.\n",
      "2016-02-16 17:08:41) OutputWriter::HelperThread 0:4 started.\n",
      "2016-02-16 17:08:41) Work Unit runner 0:5 started with 1 cpu cores (affinity=0) and 0 gpus.\n",
      "2016-02-16 17:08:41) Creating slot 2 on process (0:1) using resources: tels_macbook; cpu core list:3; gpu device list:<none>.\n",
      "2016-02-16 17:08:41) Work Unit runner 0:6 started with 1 cpu cores (affinity=0) and 0 gpus.\n",
      "2016-02-16 17:08:41) Creating slot 3 on process (0:1) using resources: tels_macbook; cpu core list:4; gpu device list:<none>.\n",
      "2016-02-16 17:08:41) Work Unit runner 0:7 started with 1 cpu cores (affinity=0) and 0 gpus.\n",
      "2016-02-16 17:08:41) Output writer started: 0:3.\n",
      "2016-02-16 17:08:41) Work Unit runner 0:8 started with 1 cpu cores (affinity=0) and 0 gpus.\n",
      "2016-02-16 17:08:41) Work unit runner started: 0:5.\n",
      "2016-02-16 17:08:41) Work unit runner started: 0:6.\n",
      "2016-02-16 17:08:41) Work unit runner started: 0:7.\n",
      "2016-02-16 17:08:41) Work unit runner started: 0:8.\n",
      "2016-02-16 17:08:41) All supervisor workers have started, beginning simulation.\n",
      "2016-02-16 17:08:41) Forward flux supervisor starting simulation.\n",
      "2016-02-16 17:08:41) Simulation started.\n",
      "2016-02-16 17:08:41) By the end of forward flux phase zero, 1000 forward crossings were recorded\n",
      "2016-02-16 17:08:41) The regional phase 0 dwell time is: 48673.3463893238\n",
      "2016-02-16 17:08:41) The basinal phase 0 dwell time is: 43993.2900728504\n",
      "2016-02-16 17:08:41) The regional forward flux is: 0.0205451253\n",
      "2016-02-16 17:08:41) The basinal forward flux is: 0.0227307391\n",
      "2016-02-16 17:08:41) Forward flux phase 1:FORWARD starting now\n",
      "2016-02-16 17:08:43) Forward flux phase 2:FORWARD starting now\n",
      "2016-02-16 17:08:44) Forward flux phase 3:FORWARD starting now\n",
      "2016-02-16 17:08:45) Forward flux phase 4:FORWARD starting now\n",
      "2016-02-16 17:08:47) Forward flux phase 5:FORWARD starting now\n",
      "2016-02-16 17:08:48) Forward flux phase 6:FORWARD starting now\n",
      "2016-02-16 17:08:49) Forward flux phase 7:FORWARD starting now\n",
      "2016-02-16 17:08:49) Forward flux phase 8:FORWARD starting now\n",
      "2016-02-16 17:08:49) Forward flux phase 9:FORWARD starting now\n",
      "2016-02-16 17:08:49) Forward flux phase 10:FORWARD starting now\n",
      "2016-02-16 17:08:50) Forward flux phase 11:FORWARD starting now\n",
      "2016-02-16 17:08:50) Forward flux phase 12:FORWARD starting now\n",
      "2016-02-16 17:08:51) By the end of forward flux phase zero, 1000 forward crossings were recorded\n",
      "2016-02-16 17:08:51) The regional phase 0 dwell time is: 49981.4619076355\n",
      "2016-02-16 17:08:51) The basinal phase 0 dwell time is: 46246.4779608478\n",
      "2016-02-16 17:08:51) The regional forward flux is: 0.0200074180\n",
      "2016-02-16 17:08:51) The basinal forward flux is: 0.0216232683\n",
      "2016-02-16 17:08:51) Forward flux phase 1:BACKWARD starting now\n",
      "2016-02-16 17:08:52) Forward flux phase 2:BACKWARD starting now\n",
      "2016-02-16 17:08:53) Forward flux phase 3:BACKWARD starting now\n",
      "2016-02-16 17:08:54) Forward flux phase 4:BACKWARD starting now\n",
      "2016-02-16 17:08:57) Forward flux phase 5:BACKWARD starting now\n",
      "2016-02-16 17:08:58) Forward flux phase 6:BACKWARD starting now\n",
      "2016-02-16 17:08:59) Forward flux phase 7:BACKWARD starting now\n",
      "2016-02-16 17:08:59) Forward flux phase 8:BACKWARD starting now\n",
      "2016-02-16 17:08:59) Forward flux phase 9:BACKWARD starting now\n",
      "2016-02-16 17:08:59) Forward flux phase 10:BACKWARD starting now\n",
      "2016-02-16 17:09:00) Forward flux phase 11:BACKWARD starting now\n",
      "2016-02-16 17:09:00) Forward flux phase 12:BACKWARD starting now\n",
      "basin: FORWARD phase: 0 dwell time: 12168.337\n",
      "basin: FORWARD phase: 1 dwell time: 2.434\n",
      "basin: FORWARD phase: 2 dwell time: 13.827\n",
      "basin: FORWARD phase: 3 dwell time: 28.785\n",
      "basin: FORWARD phase: 4 dwell time: 39.673\n",
      "basin: FORWARD phase: 5 dwell time: 43.221\n",
      "basin: FORWARD phase: 6 dwell time: 27.480\n",
      "basin: FORWARD phase: 7 dwell time: 30.275\n",
      "basin: FORWARD phase: 8 dwell time: 21.258\n",
      "basin: FORWARD phase: 9 dwell time: 21.352\n",
      "basin: FORWARD phase: 10 dwell time: 14.430\n",
      "basin: FORWARD phase: 11 dwell time: 15.470\n",
      "basin: FORWARD phase: 12 dwell time: 15.550\n",
      "basin: FORWARD phase: 13 dwell time: nan\n",
      "basin: BACKWARD phase: 0 dwell time: 12495.365\n",
      "basin: BACKWARD phase: 1 dwell time: 1.910\n",
      "basin: BACKWARD phase: 2 dwell time: 13.234\n",
      "basin: BACKWARD phase: 3 dwell time: 25.242\n",
      "basin: BACKWARD phase: 4 dwell time: 38.486\n",
      "basin: BACKWARD phase: 5 dwell time: 36.956\n",
      "basin: BACKWARD phase: 6 dwell time: 31.783\n",
      "basin: BACKWARD phase: 7 dwell time: 23.154\n",
      "basin: BACKWARD phase: 8 dwell time: 24.811\n",
      "basin: BACKWARD phase: 9 dwell time: 18.431\n",
      "basin: BACKWARD phase: 10 dwell time: 16.217\n",
      "basin: BACKWARD phase: 11 dwell time: 14.052\n",
      "basin: BACKWARD phase: 12 dwell time: 20.113\n",
      "basin: BACKWARD phase: 13 dwell time: nan\n",
      "2016-02-16 17:09:00) Simulation finished.\n",
      "2016-02-16 17:09:00) Finished 90109 work units (ids in range 0 to 90108) with 90109 parts in the last 19.2 seconds. 180482016 steps in 4.228e+01 seconds (4.269e+06 steps/second).\n",
      "2016-02-16 17:09:00) Supervisor 0:2 finished.\n",
      "2016-02-16 17:09:00) Wrote 5 messages (18814374 bytes) in the last 19.2 seconds (0.578081 seconds writing). 0 messages (0 bytes) queued. Flushing.\n",
      "2016-02-16 17:09:00) OutputWriter::HelperThread 0:4 finished.\n",
      "2016-02-16 17:09:00) OutputWriter 0:3 finished.\n",
      "2016-02-16 17:09:00) Work unit runner 0:5 finished.\n",
      "2016-02-16 17:09:00) Work unit runner 0:6 finished.\n",
      "2016-02-16 17:09:00) Work unit runner 0:7 finished.\n",
      "2016-02-16 17:09:00) Work unit runner 0:8 finished.\n",
      "2016-02-16 17:09:00) Resource controller 0:1 finished.\n",
      "2016-02-16 17:09:00) Closing MPI library.\n",
      "2016-02-16 17:09:00) Program execution finished.\n",
      "Finished.\n"
     ]
    }
   ],
   "source": [
    "%%bash\n",
    "dirname=data/1\n",
    "filename=${dirname}/genetic_toggle_switch.lm\n",
    "echo \"Execute the following command in `pwd`:\"\n",
    "#lmes -r 1-1 -f ${filename} -gr 0 -c 2\n",
    "lmes -sl lm::cme::GillespieDSolver -f ${filename} -gr 0 -c 5 -fflux -intout\n",
    "#> ${filename}.log\n",
    "echo \"Finished.\""
   ]
  },
  {
   "cell_type": "code",
   "execution_count": 3,
   "metadata": {
    "collapsed": false
   },
   "outputs": [],
   "source": [
    "sim = Sim(fPath='data/1/genetic_toggle_switch.lm', clearInt=True)\n",
    "sim.ffluxHists.transformKwargs = {'tilingIDs':((3,),)}"
   ]
  },
  {
   "cell_type": "code",
   "execution_count": 3,
   "metadata": {
    "collapsed": false
   },
   "outputs": [
    {
     "name": "stdout",
     "output_type": "stream",
     "text": [
      "1.01167062694e-05\n",
      "the FORWARD phase zero best fit weight is: 6.42470703\n",
      "5.87064563894e-06\n",
      "the BACKWARD phase zero best fit weight is: 4.46513672\n"
     ]
    },
    {
     "data": {
      "text/plain": [
       "<lm_anal.src.datum.hist.ffluxHist.FFluxHist at 0x113dee4a8>"
      ]
     },
     "execution_count": 3,
     "metadata": {},
     "output_type": "execute_result"
    }
   ],
   "source": [
    "sim.ffluxHists(('BinTilingIDs', (3,)))"
   ]
  },
  {
   "cell_type": "code",
   "execution_count": 4,
   "metadata": {
    "collapsed": false
   },
   "outputs": [
    {
     "data": {
      "text/plain": [
       "(<matplotlib.figure.Figure at 0x113e06588>,\n",
       " <matplotlib.axes._subplots.AxesSubplot at 0x117683160>,\n",
       " {'figsize': (12, 12)},\n",
       " {},\n",
       " {})"
      ]
     },
     "execution_count": 4,
     "metadata": {},
     "output_type": "execute_result"
    },
    {
     "data": {
      "image/png": "[encoded data removed]",
      "text/plain": [
       "<matplotlib.figure.Figure at 0x113e06588>"
      ]
     },
     "metadata": {},
     "output_type": "display_data"
    }
   ],
   "source": [
    "sim.ffluxHists(('BinTilingIDs', (3,))).plot()"
   ]
  },
  {
   "cell_type": "code",
   "execution_count": 4,
   "metadata": {
    "collapsed": false
   },
   "outputs": [
    {
     "name": "stdout",
     "output_type": "stream",
     "text": [
      "[(('InterfaceTilingID', 0), ('Direction', 'BACKWARD')), (('InterfaceTilingID', 0), ('Direction', 'FORWARD'))]\n",
      "array([(0, -27.0, -38.0, 48.67334638932382),\n",
      "       (0, -22.5, -38.0, 538.3272110659213),\n",
      "       (0, -18.0, -38.0, 1938.516287048383),\n",
      "       (0, -13.5, -38.0, 15039.009354921354),\n",
      "       (0, -9.0, -38.0, 107589.07292510738),\n",
      "       (0, -4.5, -38.0, 516104.78282174),\n",
      "       (0, 0.0, -38.0, 816993.8712068144),\n",
      "       (0, 4.5, -38.0, 1138889.4564622992),\n",
      "       (0, 9.0, -38.0, 1332500.6640608902),\n",
      "       (0, 13.5, -38.0, 1443098.219177944),\n",
      "       (0, 18.0, -38.0, 1482061.8710957486),\n",
      "       (0, 22.5, -38.0, 1492436.304193419),\n",
      "       (0, 27.0, -38.0, 1495421.176801806),\n",
      "       (0, 27.0, 38.0, 49.98146190763552),\n",
      "       (0, 22.5, 38.0, 405.74950776618516),\n",
      "       (0, 18.0, 38.0, 2278.2834861071296),\n",
      "       (0, 13.5, 38.0, 11778.725623173861),\n",
      "       (0, 9.0, 38.0, 150355.43257981434),\n",
      "       (0, 4.5, 38.0, 506096.3860636551),\n",
      "       (0, 0.0, 38.0, 888199.1575417146),\n",
      "       (0, -4.5, 38.0, 1153770.7056466872),\n",
      "       (0, -9.0, 38.0, 1368372.0568969713),\n",
      "       (0, -13.5, 38.0, 1479210.1935056262),\n",
      "       (0, -18.0, 38.0, 1528024.1298913115),\n",
      "       (0, -22.5, 38.0, 1540248.3229304422),\n",
      "       (0, -27.0, 38.0, 1544869.0678992332)], \n",
      "      dtype=[('oparam_id', '<i8'), ('count', '<f8'), ('initial_count', '<f8'), ('time', '<f8')])\n",
      "[  4.86733464e+01   5.38327211e+02   1.93851629e+03   1.50390094e+04\n",
      "   1.07589073e+05   5.16104783e+05   8.16993871e+05   1.13888946e+06\n",
      "   1.33250066e+06   1.44309822e+06   1.48206187e+06   1.49243630e+06\n",
      "   1.49542118e+06   4.99814619e+01   4.05749508e+02   2.27828349e+03\n",
      "   1.17787256e+04   1.50355433e+05   5.06096386e+05   8.88199158e+05\n",
      "   1.15377071e+06   1.36837206e+06   1.47921019e+06   1.52802413e+06\n",
      "   1.54024832e+06   1.54486907e+06]\n"
     ]
    }
   ],
   "source": [
    "print(list(sim.oparamFPTs.keys()))\n",
    "oparamFPT = sim.oparamFPTs(('Direction', 'FORWARD'))\n",
    "\n",
    "print(oparamFPT.points.__repr__())\n",
    "print(oparamFPT.time)"
   ]
  },
  {
   "cell_type": "code",
   "execution_count": 15,
   "metadata": {
    "collapsed": false,
    "scrolled": true
   },
   "outputs": [
    {
     "name": "stdout",
     "output_type": "stream",
     "text": [
      "[ 0.          0.09041591  0.27770064  0.1288992   0.13978194  0.20846362\n",
      "  0.63171194  0.71736011  0.85470085  0.92336103  0.97370983  0.99304866\n",
      "  0.99800399  0.        ]\n",
      "0.020545125293036016\n"
     ]
    }
   ],
   "source": [
    "ffluxOutputs = sim.ffluxOutputs[0]\n",
    "print(ffluxOutputs.basins['FORWARD'].probability_i_to_i_plus_one)\n",
    "print(ffluxOutputs.basins['FORWARD'].flux_out_of_tile_zero)"
   ]
  },
  {
   "cell_type": "code",
   "execution_count": 19,
   "metadata": {
    "collapsed": false
   },
   "outputs": [
    {
     "data": {
      "text/plain": [
       "array([  4.86733464e+01,   5.38327211e+02,   1.93851629e+03,\n",
       "         1.50390094e+04,   1.07589073e+05,   5.16104783e+05,\n",
       "         8.16993871e+05,   1.13888946e+06,   1.33250066e+06,\n",
       "         1.44309822e+06,   1.48206187e+06,   1.49243630e+06,\n",
       "         1.49542118e+06])"
      ]
     },
     "execution_count": 19,
     "metadata": {},
     "output_type": "execute_result"
    }
   ],
   "source": [
    "sim.oparamFPTs(('Direction', 'FORWARD')).time"
   ]
  },
  {
   "cell_type": "code",
   "execution_count": null,
   "metadata": {
    "collapsed": true
   },
   "outputs": [],
   "source": []
  }
 ],
 "metadata": {
  "kernelspec": {
   "display_name": "Python 3",
   "language": "python",
   "name": "python3"
  },
  "language_info": {
   "codemirror_mode": {
    "name": "ipython",
    "version": 3
   },
   "file_extension": ".py",
   "mimetype": "text/x-python",
   "name": "python",
   "nbconvert_exporter": "python",
   "pygments_lexer": "ipython3",
   "version": "3.4.2"
  }
 },
 "nbformat": 4,
 "nbformat_minor": 0
}
