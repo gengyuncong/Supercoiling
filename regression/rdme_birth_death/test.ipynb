{
 "cells": [
  {
   "cell_type": "code",
   "execution_count": 1,
   "metadata": {},
   "outputs": [],
   "source": [
    "%matplotlib inline\n",
    "from __future__ import division\n",
    "import matplotlib\n",
    "import numpy as np\n",
    "from pylab import *\n",
    "import os\n",
    "matplotlib.rcParams.update({\"axes.formatter.limits\": (-4,4)})\n",
    "plotStyles={\"markersize\":20,\"markeredgewidth\":3.0,\"linewidth\":3.0}\n",
    "stepStyles={\"markersize\":20,\"markeredgewidth\":3.0,\"linewidth\":3.0,\"where\":\"post\"}\n",
    "np.seterr(divide='ignore',invalid='ignore')\n",
    "pass"
   ]
  },
  {
   "cell_type": "code",
   "execution_count": 2,
   "metadata": {},
   "outputs": [
    {
     "data": {
      "application/javascript": [
       "IPython.OutputArea.auto_scroll_threshold = 9999;"
      ],
      "text/plain": [
       "<IPython.core.display.Javascript object>"
      ]
     },
     "metadata": {},
     "output_type": "display_data"
    }
   ],
   "source": [
    "%%javascript\n",
    "IPython.OutputArea.auto_scroll_threshold = 9999;"
   ]
  },
  {
   "cell_type": "markdown",
   "metadata": {},
   "source": [
    "# Setup the notebook."
   ]
  },
  {
   "cell_type": "code",
   "execution_count": 3,
   "metadata": {},
   "outputs": [],
   "source": [
    "import h5py\n",
    "import math\n",
    "import random\n",
    "testNames=[\"bimolecular_partitioned_time_limit\"]\n",
    "test_names_bash_list=\" \".join(testNames)"
   ]
  },
  {
   "cell_type": "code",
   "execution_count": 4,
   "metadata": {},
   "outputs": [],
   "source": [
    "%%bash\n",
    "rm -rf tmp && mkdir tmp"
   ]
  },
  {
   "cell_type": "code",
   "execution_count": 5,
   "metadata": {},
   "outputs": [],
   "source": [
    "def isclose(a, b, rel_tol=1e-09, abs_tol=0.0):\n",
    "    return abs(a-b) <= max(rel_tol * max(abs(a), abs(b)), abs_tol)"
   ]
  },
  {
   "cell_type": "code",
   "execution_count": 6,
   "metadata": {},
   "outputs": [],
   "source": [
    "def buildLattice(filename):\n",
    "    fp = h5py.File(filename, \"a\")\n",
    "    sites=fp[\"/Model/Diffusion/LatticeSites\"]\n",
    "    sites[:,:,0:3] = 0\n",
    "    sites[:,:,3] = 1\n",
    "    sites[:,:,4:7] = 2\n",
    "    initialCounts=fp[\"/Model/Reaction/InitialSpeciesCounts\"]\n",
    "    particles=fp[\"/Model/Diffusion/Lattice\"]\n",
    "    for i in range(len(initialCounts)):\n",
    "        attempts = 0\n",
    "        placed = 0\n",
    "        while placed < initialCounts[i]:\n",
    "            attempts += 1\n",
    "            x = random.randint(0,particles.shape[0]-1)\n",
    "            y = random.randint(0,particles.shape[1]-1)\n",
    "            if i == 0:\n",
    "                z = random.randint(0,2)\n",
    "            elif i == 1:\n",
    "                z = random.randint(4,6)\n",
    "            elif i == 2:\n",
    "                z = 3\n",
    "            for p in range(particles.shape[3]):\n",
    "                if particles[x,y,z,p] == 0xFF:\n",
    "                    particles[x,y,z,p] = i\n",
    "                    placed += 1\n",
    "                    break\n",
    "        print \"Placed %d particles of type %d in %d attempts.\"%(placed,i,attempts)\n",
    "    fp.close()"
   ]
  },
  {
   "cell_type": "markdown",
   "metadata": {},
   "source": [
    "# Execute the simulations."
   ]
  },
  {
   "cell_type": "code",
   "execution_count": 7,
   "metadata": {},
   "outputs": [
    {
     "name": "stdout",
     "output_type": "stream",
     "text": [
      "Finished.\n"
     ]
    }
   ],
   "source": [
    "%%bash -s \"$test_names_bash_list\"\n",
    "sbmlFilename=\"rdme_bimolecular.sbml\"\n",
    "for testName in $1; do\n",
    "    outputFilename=tmp/${testName}.lm\n",
    "    rm -f ${outputFilename}*\n",
    "    lm_sbml_import ${outputFilename} ${sbmlFilename} > ${outputFilename}.import.log\n",
    "    lm_setdm ${outputFilename} PlaceParticles=0 numberReactions=2 numberSpecies=3 numberSiteTypes=3 \"latticeSize=[5,6,7]\" latticeSpacing=1e-6 particlesPerSite=16 \"DiffusionMatrix(:,:,0)=[1e-10,1e-10,0;1e-10,1e-10,0;0,0,0;]\" \"DiffusionMatrix(:,:,1)=[0,0,0;0,1e-10,1e-10;0,1e-10,1e-10;]\" \"DiffusionMatrix(:,:,2)=[0,0,0;0,1e-10,0;0,0,0]\" \"ReactionLocationMatrix=[0,1,0;0,1,0]\" > ${outputFilename}.setdm.log\n",
    "    if [ ${testName} == \"bimolecular_partitioned_time_limit\" ]; then\n",
    "        lm_setp ${outputFilename} maxTime=1e3 writeInterval=1e0 latticeWriteInterval=1e0 > /dev/null\n",
    "    else\n",
    "        echo \"Invalid test name: ${testName}\"\n",
    "        continue\n",
    "    fi\n",
    "done;\n",
    "echo \"Finished.\""
   ]
  },
  {
   "cell_type": "code",
   "execution_count": 8,
   "metadata": {},
   "outputs": [
    {
     "name": "stdout",
     "output_type": "stream",
     "text": [
      "Placed 100 particles of type 0 in 100 attempts.\n",
      "Placed 100 particles of type 1 in 100 attempts.\n",
      "Placed 0 particles of type 2 in 0 attempts.\n",
      "Finished.\n"
     ]
    }
   ],
   "source": [
    "# Construct the partitioned lattices.\n",
    "for testName in testNames:\n",
    "    buildLattice(\"tmp/%s.lm\"%(testName))\n",
    "print \"Finished.\""
   ]
  },
  {
   "cell_type": "code",
   "execution_count": 9,
   "metadata": {},
   "outputs": [
    {
     "name": "stdout",
     "output_type": "stream",
     "text": [
      "Finished.\n"
     ]
    }
   ],
   "source": [
    "%%bash -s \"$test_names_bash_list\"\n",
    "for testName in $1; do\n",
    "    outputFilename=tmp/${testName}.lm\n",
    "    lmes -sp -r 1-10 -f ${outputFilename} > ${outputFilename}.simulate.log\n",
    "done;\n",
    "echo \"Finished.\""
   ]
  },
  {
   "cell_type": "markdown",
   "metadata": {},
   "source": [
    "# Define some tests."
   ]
  },
  {
   "cell_type": "code",
   "execution_count": 18,
   "metadata": {},
   "outputs": [],
   "source": [
    "def test_bimolecular_time_limit_stats(testOutputFilename):\n",
    "    \n",
    "    # Calcualte some statistics about the species counts.\n",
    "    fp = h5py.File(testOutputFilename, \"r\")\n",
    "    replicates=fp[\"/Simulations\"].keys()\n",
    "    k=0\n",
    "    mSim=None\n",
    "    vSim=None\n",
    "    times=None\n",
    "    for replicate in replicates:\n",
    "        if times is None:\n",
    "            times = np.array(fp[\"/Simulations/%s/SpeciesCountTimes\"%replicate], dtype=double)\n",
    "        counts = np.array(fp[\"/Simulations/%s/SpeciesCounts\"%replicate], dtype=double)\n",
    "        if mSim is None:\n",
    "            k += 1\n",
    "            mSim = counts\n",
    "            vSim = np.zeros(counts.shape, dtype=double)\n",
    "        else:\n",
    "            k += 1\n",
    "            mSim = mSim + (counts-mSim)/k\n",
    "            vSim = vSim + (counts-mSim)*(counts-mSim)\n",
    "    vSim /= float((k-1))\n",
    "\n",
    "    # Plot the mean and variance.\n",
    "    matplotlib.rcParams.update({'font.size': 15, \"figure.figsize\": (15,6)})\n",
    "    ax=plt.subplot(2,3,1)\n",
    "    plt.plot(times,mSim[:,0], **plotStyles)\n",
    "    ax.set_yscale('log'); xlabel('t'); ylabel('E{X(t)}'); title(\"%s\"%(testOutputFilename))\n",
    "    ax=plt.subplot(2,3,2)\n",
    "    plt.plot(times,mSim[:,1], **plotStyles)\n",
    "    ax.set_yscale('log'); xlabel('t'); ylabel('E{X(t)}'); title(\"%s\"%(testOutputFilename))\n",
    "    ax=plt.subplot(2,3,3)\n",
    "    plt.plot(times,mSim[:,2], **plotStyles)\n",
    "    ax.set_yscale('log'); xlabel('t'); ylabel('E{X(t)}'); title(\"%s\"%(testOutputFilename))\n",
    "    ax=plt.subplot(2,3,4)\n",
    "    plt.plot(times,vSim[:,0], **plotStyles)\n",
    "    ax.set_yscale('log'); xlabel('t'); ylabel('Var{X(t)}'); title(\"%s\"%(testOutputFilename))\n",
    "    ax=plt.subplot(2,3,5)\n",
    "    plt.plot(times,vSim[:,1], **plotStyles)\n",
    "    ax.set_yscale('log'); xlabel('t'); ylabel('Var{X(t)}'); title(\"%s\"%(testOutputFilename))\n",
    "    ax=plt.subplot(2,3,6)\n",
    "    plt.plot(times,vSim[:,2], **plotStyles)\n",
    "    ax.set_yscale('log'); xlabel('t'); ylabel('Var{X(t)}'); title(\"%s\"%(testOutputFilename))\n",
    "    fp.close()\n",
    "\n",
    "    # Check the mean and variance.\n",
    "    value = np.mean(mSim[len(mSim)//2:,0])\n",
    "    if not isclose(value,64.0,1e-2): raise Exception(\"incorrect value for particle 0 mean\",value)\n",
    "    value = np.mean(mSim[len(mSim)//2:,1])\n",
    "    if not isclose(value,64.0,1e-2): raise Exception(\"incorrect value for particle 1 mean\",value)\n",
    "    value = np.mean(mSim[len(mSim)//2:,2])\n",
    "    if not isclose(value,36.0,1e-2): raise Exception(\"incorrect value for particle 2 mean\",value)\n",
    "    value = np.mean(vSim[len(mSim)//2:,0])\n",
    "    if not isclose(value,13.5,5e-2): raise Exception(\"incorrect value for particle 0 variance\",value)\n",
    "    value = np.mean(vSim[len(mSim)//2:,1])\n",
    "    if not isclose(value,13.5,5e-2): raise Exception(\"incorrect value for particle 1 variance\",value)        \n",
    "    value = np.mean(vSim[len(mSim)//2:,2])\n",
    "    if not isclose(value,13.5,5e-2): raise Exception(\"incorrect value for particle 2 variance\",value)        "
   ]
  },
  {
   "cell_type": "code",
   "execution_count": 25,
   "metadata": {},
   "outputs": [],
   "source": [
    "def test_bimolecular_time_limit_density(testOutputFilename):\n",
    "    \n",
    "    # Calculate some statistic about the spatial density.\n",
    "    fp = h5py.File(testOutputFilename, \"r\")\n",
    "    replicates=fp[\"/Simulations\"].keys()\n",
    "    k=0\n",
    "    mSim=None\n",
    "    vSim=None\n",
    "    times=None\n",
    "    count = 0\n",
    "    lc = np.zeros((5,6,7,3), dtype=double)\n",
    "    for replicate in replicates:\n",
    "        lattices=fp[\"/Simulations/%s/Lattice\"%replicate].keys()\n",
    "        for lattice in lattices:\n",
    "            lfull = np.array(fp[\"/Simulations/%s/Lattice/%s\"%(replicate,lattice)], dtype=np.uint8)\n",
    "            lc[:,:,:,0] += np.sum(lfull==0,3)\n",
    "            lc[:,:,:,1] += np.sum(lfull==1,3)\n",
    "            lc[:,:,:,2] += np.sum(lfull==2,3)\n",
    "            count += 1\n",
    "    lc /= count\n",
    "    fp.close()\n",
    "    \n",
    "    # Plot the mean spatial density.\n",
    "    matplotlib.rcParams.update({'font.size': 15, \"figure.figsize\": (15,6)})\n",
    "    for s in range(0,3):\n",
    "        for i in range(0,lc.shape[2]):\n",
    "            plt.subplot(3,lc.shape[2],s*lc.shape[2]+i+1)\n",
    "            plt.imshow(lc[:,:,i,s], cmap=plt.cm.gray, origin='lower', interpolation=\"none\", vmin=0.0, vmax=1.0)\n",
    "            colorbar()\n",
    "    \n",
    "    # Check the spatial density.\n",
    "    value = np.mean(lc[:,:,0,0])\n",
    "    if not isclose(value,0.5,1e-1): raise Exception(\"incorrect value for mean at p=0 z=0\",value)\n",
    "    value = np.mean(lc[:,:,1,0])\n",
    "    if not isclose(value,0.5,1e-1): raise Exception(\"incorrect value for mean at p=0 z=1\",value)\n",
    "    value = np.mean(lc[:,:,2,0])\n",
    "    if not isclose(value,0.5,1e-1): raise Exception(\"incorrect value for mean at p=0 z=2\",value)\n",
    "    value = np.mean(lc[:,:,3,0])\n",
    "    if not isclose(value,0.5,1e-1): raise Exception(\"incorrect value for mean at p=0 z=3\",value)\n",
    "    value = np.mean(lc[:,:,4,0])\n",
    "    if not isclose(value,0.0,1e-1): raise Exception(\"incorrect value for mean at p=0 z=4\",value)\n",
    "    value = np.mean(lc[:,:,5,0])\n",
    "    if not isclose(value,0.0,1e-1): raise Exception(\"incorrect value for mean at p=0 z=5\",value)\n",
    "    value = np.mean(lc[:,:,6,0])\n",
    "    if not isclose(value,0.0,1e-1): raise Exception(\"incorrect value for mean at p=0 z=6\",value)\n",
    "        \n",
    "    value = np.mean(lc[:,:,0,1])\n",
    "    if not isclose(value,0.0,1e-1): raise Exception(\"incorrect value for mean at p=1 z=0\",value)\n",
    "    value = np.mean(lc[:,:,1,1])\n",
    "    if not isclose(value,0.0,1e-1): raise Exception(\"incorrect value for mean at p=1 z=1\",value)\n",
    "    value = np.mean(lc[:,:,2,1])\n",
    "    if not isclose(value,0.0,1e-1): raise Exception(\"incorrect value for mean at p=1 z=2\",value)\n",
    "    value = np.mean(lc[:,:,3,1])\n",
    "    if not isclose(value,0.5,1e-1): raise Exception(\"incorrect value for mean at p=1 z=3\",value)\n",
    "    value = np.mean(lc[:,:,4,1])\n",
    "    if not isclose(value,0.5,1e-1): raise Exception(\"incorrect value for mean at p=1 z=4\",value)\n",
    "    value = np.mean(lc[:,:,5,1])\n",
    "    if not isclose(value,0.5,1e-1): raise Exception(\"incorrect value for mean at p=1 z=5\",value)\n",
    "    value = np.mean(lc[:,:,6,1])\n",
    "    if not isclose(value,0.5,1e-1): raise Exception(\"incorrect value for mean at p=1 z=6\",value)\n",
    "        \n",
    "    value = np.mean(lc[:,:,0,2])\n",
    "    if not isclose(value,0.0,1e-1): raise Exception(\"incorrect value for mean at p=2 z=0\",value)\n",
    "    value = np.mean(lc[:,:,1,2])\n",
    "    if not isclose(value,0.0,1e-1): raise Exception(\"incorrect value for mean at p=2 z=1\",value)\n",
    "    value = np.mean(lc[:,:,2,2])\n",
    "    if not isclose(value,0.0,1e-1): raise Exception(\"incorrect value for mean at p=2 z=2\",value)\n",
    "    value = np.mean(lc[:,:,3,2])\n",
    "    if not isclose(value,1.2,1e-1): raise Exception(\"incorrect value for mean at p=2 z=3\",value)\n",
    "    value = np.mean(lc[:,:,4,2])\n",
    "    if not isclose(value,0.0,1e-1): raise Exception(\"incorrect value for mean at p=2 z=4\",value)\n",
    "    value = np.mean(lc[:,:,5,2])\n",
    "    if not isclose(value,0.0,1e-1): raise Exception(\"incorrect value for mean at p=2 z=5\",value)\n",
    "    value = np.mean(lc[:,:,6,2])\n",
    "    if not isclose(value,0.0,1e-1): raise Exception(\"incorrect value for mean at p=2 z=6\",value)\n",
    "        "
   ]
  },
  {
   "cell_type": "code",
   "execution_count": 26,
   "metadata": {},
   "outputs": [],
   "source": [
    "def test_bimolecular_time_limit_compare(testOutputFilename):\n",
    "    \n",
    "    # Compare the species and lattice counts.\n",
    "    fp = h5py.File(testOutputFilename, \"r\")\n",
    "    replicates=fp[\"/Simulations\"].keys()\n",
    "    xs=[]\n",
    "    ys=[]\n",
    "    for replicate in replicates:\n",
    "        counts=np.array(fp[\"/Simulations/%s/SpeciesCounts\"%replicate], dtype=double)\n",
    "        for i in range(0,counts.shape[0]):\n",
    "            xs.append(counts[i,2])\n",
    "        lattices=fp[\"/Simulations/%s/Lattice\"%replicate].keys()\n",
    "        for lattice in lattices:\n",
    "            lfull = np.array(fp[\"/Simulations/%s/Lattice/%s\"%(replicate,lattice)], dtype=np.uint8)\n",
    "            ys.append(np.sum(lfull==2))\n",
    "            \n",
    "    # Plot the comparison.\n",
    "    plt.scatter(xs,ys)\n",
    "    \n",
    "    # Check the comparison.\n",
    "    for i in range(len(xs)):\n",
    "        if xs[i] != ys[i]:\n",
    "            raise Exception(\"mismatch in counts at step %d: %d, %d\",i, xs[i], ys[i])"
   ]
  },
  {
   "cell_type": "markdown",
   "metadata": {},
   "source": [
    "# Run the tests."
   ]
  },
  {
   "cell_type": "code",
   "execution_count": 27,
   "metadata": {},
   "outputs": [
    {
     "name": "stdout",
     "output_type": "stream",
     "text": [
      "[bimolecular_partitioned_time_limit:0]                       : FAILED with: ('incorrect value for particle 0 mean', 100.0)\n"
     ]
    },
    {
     "data": {
      "image/png": "[encoded data removed]",
      "text/plain": [
       "<matplotlib.figure.Figure at 0x7fdcd5999e50>"
      ]
     },
     "metadata": {
      "needs_background": "light"
     },
     "output_type": "display_data"
    },
    {
     "name": "stdout",
     "output_type": "stream",
     "text": [
      "[bimolecular_partitioned_time_limit:1]                       : FAILED with: ('incorrect value for mean at p=0 z=4', 0.47450216450216448)\n"
     ]
    },
    {
     "data": {
      "image/png": "[encoded data removed]",
      "text/plain": [
       "<matplotlib.figure.Figure at 0x7fdcd5f5ad50>"
      ]
     },
     "metadata": {
      "needs_background": "light"
     },
     "output_type": "display_data"
    },
    {
     "name": "stdout",
     "output_type": "stream",
     "text": [
      "[bimolecular_partitioned_time_limit:2]                       : passed.\n"
     ]
    },
    {
     "data": {
      "image/png": "[encoded data removed]",
      "text/plain": [
       "<matplotlib.figure.Figure at 0x7fdcd5729910>"
      ]
     },
     "metadata": {
      "needs_background": "light"
     },
     "output_type": "display_data"
    }
   ],
   "source": [
    "testMethods = {\"bimolecular_partitioned_time_limit\": [test_bimolecular_time_limit_stats,test_bimolecular_time_limit_density,test_bimolecular_time_limit_compare]}\n",
    "matplotlib.rcParams.update({'font.size': 15, \"figure.figsize\": (20,5)})\n",
    "i=1\n",
    "for testName in testNames:\n",
    "    for i,testMethod in enumerate(testMethods[testName]):\n",
    "        try:\n",
    "            testOutputFilename=\"tmp/%s.lm\"%(testName)\n",
    "            testMethod(testOutputFilename)\n",
    "        except Exception as e:\n",
    "            print \"%-60s : FAILED with:\"%(\"[\"+testName+\":\"+str(i)+\"]\"),e\n",
    "        except:\n",
    "            print \"%-60s : FAILED with: Unknown exception\"%(\"[\"+testName+\":\"+str(i)+\"]\")\n",
    "        else:\n",
    "            print \"%-60s : passed.\"%(\"[\"+testName+\":\"+str(i)+\"]\")\n",
    "        plt.tight_layout()\n",
    "        plt.show()\n",
    "pass"
   ]
  },
  {
   "cell_type": "code",
   "execution_count": 122,
   "metadata": {
    "collapsed": true
   },
   "outputs": [],
   "source": [
    "%%bash\n",
    "rm -rf tmp"
   ]
  },
  {
   "cell_type": "code",
   "execution_count": null,
   "metadata": {
    "collapsed": true
   },
   "outputs": [],
   "source": []
  }
 ],
 "metadata": {
  "kernelspec": {
   "display_name": "Python 2",
   "language": "python",
   "name": "python2"
  },
  "language_info": {
   "codemirror_mode": {
    "name": "ipython",
    "version": 2
   },
   "file_extension": ".py",
   "mimetype": "text/x-python",
   "name": "python",
   "nbconvert_exporter": "python",
   "pygments_lexer": "ipython2",
   "version": "2.7.15rc1"
  }
 },
 "nbformat": 4,
 "nbformat_minor": 1
}
