{
 "cells": [
  {
   "cell_type": "code",
   "execution_count": 1,
   "metadata": {},
   "outputs": [],
   "source": [
    "%matplotlib inline\n",
    "from __future__ import division\n",
    "import matplotlib\n",
    "import numpy as np\n",
    "from pylab import *\n",
    "import os\n",
    "matplotlib.rcParams.update({\"axes.formatter.limits\": (-4,4)})\n",
    "plotStyles={\"markersize\":20,\"markeredgewidth\":3.0,\"linewidth\":3.0}\n",
    "stepStyles={\"markersize\":20,\"markeredgewidth\":3.0,\"linewidth\":3.0,\"where\":\"post\"}\n",
    "np.seterr(divide='ignore',invalid='ignore')\n",
    "pass"
   ]
  },
  {
   "cell_type": "markdown",
   "metadata": {},
   "source": [
    "### Setup the notebook."
   ]
  },
  {
   "cell_type": "code",
   "execution_count": 2,
   "metadata": {},
   "outputs": [],
   "source": [
    "import h5py\n",
    "import math\n",
    "testNames=[\"second_order_reversible_time_limit\"]\n",
    "test_names_bash_list=\" \".join(testNames)\n",
    "def isclose(a, b, rel_tol=1e-09, abs_tol=0.0):\n",
    "    return abs(a-b) <= max(rel_tol * max(abs(a), abs(b)), abs_tol)"
   ]
  },
  {
   "cell_type": "code",
   "execution_count": 3,
   "metadata": {},
   "outputs": [],
   "source": [
    "%%bash\n",
    "rm -rf tmp && mkdir tmp"
   ]
  },
  {
   "cell_type": "markdown",
   "metadata": {},
   "source": [
    "### Execute the simulations."
   ]
  },
  {
   "cell_type": "code",
   "execution_count": 4,
   "metadata": {},
   "outputs": [
    {
     "name": "stdout",
     "output_type": "stream",
     "text": [
      "Finished.\n"
     ]
    }
   ],
   "source": [
    "%%bash -s \"$test_names_bash_list\"\n",
    "sbmlFilename=\"second_order_reversible.sbml\"\n",
    "for testName in $1; do\n",
    "    outputFilename=tmp/${testName}.lm\n",
    "    rm -f ${outputFilename}* && lm_sbml_import ${outputFilename} ${sbmlFilename} > ${outputFilename}.import.log\n",
    "    if [ ${testName} == \"second_order_reversible_time_limit\" ]; then\n",
    "        lm_setp ${outputFilename} writeInterval=1e-2 maxTime=1e1 > /dev/null\n",
    "    else\n",
    "        echo \"Invalid test name: ${testName}\"\n",
    "        continue\n",
    "    fi\n",
    "    lmes -r 1-1000 -f ${outputFilename} > ${outputFilename}.simulate.log\n",
    "done;\n",
    "echo \"Finished.\""
   ]
  },
  {
   "cell_type": "markdown",
   "metadata": {},
   "source": [
    "### Spot check some simulations."
   ]
  },
  {
   "cell_type": "code",
   "execution_count": 5,
   "metadata": {},
   "outputs": [],
   "source": [
    "# Plot the time series for a single replicate.\n",
    "for i,testName in enumerate(testNames):\n",
    "    testOutputFilename=\"tmp/%s.lm\"%(testName)\n",
    "3.4\n",
    "pass"
   ]
  },
  {
   "cell_type": "markdown",
   "metadata": {},
   "source": [
    "### Define the tests."
   ]
  },
  {
   "cell_type": "code",
   "execution_count": 6,
   "metadata": {},
   "outputs": [],
   "source": [
    "def test_second_order_reversible_time_limit(testOutputFilename):\n",
    "    fp = h5py.File(testOutputFilename, \"r\")\n",
    "    replicates=fp[\"/Simulations\"].keys()\n",
    "    k=0\n",
    "    mSim=None\n",
    "    vSim=None\n",
    "    times=None\n",
    "    for replicate in replicates:\n",
    "        if times is None:\n",
    "            times = np.array(fp[\"/Simulations/%s/SpeciesCountTimes\"%replicate], dtype=double)\n",
    "        counts = np.array(fp[\"/Simulations/%s/SpeciesCounts\"%replicate], dtype=double)\n",
    "        if mSim is None:\n",
    "            k += 1\n",
    "            mSim = counts\n",
    "            vSim = np.zeros(counts.shape, dtype=double)\n",
    "        else:\n",
    "            k += 1\n",
    "            mSim = mSim + (counts-mSim)/k\n",
    "            vSim = vSim + (counts-mSim)*(counts-mSim)\n",
    "    vSim /= float((k-1))\n",
    "\n",
    "    # Plot the mean and variance.\n",
    "    matplotlib.rcParams.update({'font.size': 15, \"figure.figsize\": (15,3)})\n",
    "    ax=plt.subplot(1,2,1)\n",
    "    plt.plot(times,mSim[:,0], **plotStyles)\n",
    "    ax.set_yscale('log'); xlabel('t'); ylabel('E{X(t)}'); title(\"%s\"%(testOutputFilename))\n",
    "    ax=plt.subplot(1,2,2)\n",
    "    plt.plot(times,vSim[:,0], **plotStyles)\n",
    "    ax.set_yscale('log'); xlabel('t'); ylabel('Var{X(t)}'); title(\"%s\"%(testOutputFilename))\n",
    "    fp.close()\n",
    "\n",
    "    value = np.mean(mSim[len(mSim)//2:])\n",
    "    if not isclose(value,500.0,1e-2): raise Exception(\"incorrect value for mean\",value)\n",
    "    value = np.mean(vSim[len(mSim)//2:])\n",
    "    if not isclose(value,165.0,5e-2): raise Exception(\"incorrect value for variance\",value)"
   ]
  },
  {
   "cell_type": "markdown",
   "metadata": {},
   "source": [
    "### Run the tests."
   ]
  },
  {
   "cell_type": "code",
   "execution_count": 7,
   "metadata": {},
   "outputs": [
    {
     "name": "stdout",
     "output_type": "stream",
     "text": [
      "[second_order_reversible_time_limit]                         : passed.\n"
     ]
    },
    {
     "data": {
      "image/png": "[encoded data removed]",
      "text/plain": [
       "<matplotlib.figure.Figure at 0x7fcbaf39b950>"
      ]
     },
     "metadata": {
      "needs_background": "light"
     },
     "output_type": "display_data"
    }
   ],
   "source": [
    "testMethods = {\"second_order_reversible_time_limit\": test_second_order_reversible_time_limit}\n",
    "matplotlib.rcParams.update({'font.size': 15, \"figure.figsize\": (20,5*len(testNames))})\n",
    "i=1\n",
    "for testName in testNames:\n",
    "    try:\n",
    "        testOutputFilename=\"tmp/%s.lm\"%(testName)\n",
    "        testMethods[testName](testOutputFilename)\n",
    "    except Exception as e:\n",
    "        print \"%-60s : FAILED with:\"%(\"[\"+testName+\"]\"),e\n",
    "    except:\n",
    "        print \"%-60s : FAILED with: Unknown exception\"%(\"[\"+testName+\"]\")\n",
    "    else:\n",
    "        print \"%-60s : passed.\"%(\"[\"+testName+\"]\")\n",
    "    plt.tight_layout()\n",
    "    plt.show()\n",
    "pass"
   ]
  },
  {
   "cell_type": "code",
   "execution_count": 8,
   "metadata": {},
   "outputs": [],
   "source": [
    "%%bash\n",
    "rm -rf tmp"
   ]
  },
  {
   "cell_type": "code",
   "execution_count": null,
   "metadata": {
    "collapsed": true
   },
   "outputs": [],
   "source": []
  }
 ],
 "metadata": {
  "kernelspec": {
   "display_name": "Python 2",
   "language": "python",
   "name": "python2"
  },
  "language_info": {
   "codemirror_mode": {
    "name": "ipython",
    "version": 2
   },
   "file_extension": ".py",
   "mimetype": "text/x-python",
   "name": "python",
   "nbconvert_exporter": "python",
   "pygments_lexer": "ipython2",
   "version": "2.7.15rc1"
  }
 },
 "nbformat": 4,
 "nbformat_minor": 1
}
