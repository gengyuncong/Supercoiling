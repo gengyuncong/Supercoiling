{
 "cells": [
  {
   "cell_type": "code",
   "execution_count": 120,
   "metadata": {},
   "outputs": [
    {
     "data": {
      "application/javascript": [
       "IPython.OutputArea.prototype._should_scroll = function(lines) {\n",
       "    return false;\n",
       "}"
      ],
      "text/plain": [
       "<IPython.core.display.Javascript object>"
      ]
     },
     "metadata": {},
     "output_type": "display_data"
    }
   ],
   "source": [
    "%%javascript\n",
    "IPython.OutputArea.prototype._should_scroll = function(lines) {\n",
    "    return false;\n",
    "}"
   ]
  },
  {
   "cell_type": "code",
   "execution_count": 121,
   "metadata": {},
   "outputs": [],
   "source": [
    "%matplotlib inline\n",
    "from __future__ import division\n",
    "import matplotlib\n",
    "import numpy as np\n",
    "from pylab import *\n",
    "import os\n",
    "import subprocess\n",
    "DEVNULL = open(os.devnull, 'wb')\n",
    "matplotlib.rcParams.update({\"axes.formatter.limits\": (-4,4)})\n",
    "plotStyles={\"markersize\":20,\"markeredgewidth\":3.0,\"linewidth\":3.0}\n",
    "stepStyles={\"markersize\":20,\"markeredgewidth\":3.0,\"linewidth\":3.0,\"where\":\"post\"}\n",
    "np.seterr(divide='ignore',invalid='ignore')\n",
    "pass"
   ]
  },
  {
   "cell_type": "markdown",
   "metadata": {},
   "source": [
    "### Setup the notebook."
   ]
  },
  {
   "cell_type": "code",
   "execution_count": 122,
   "metadata": {},
   "outputs": [],
   "source": [
    "import h5py\n",
    "import math\n",
    "testNames=[\n",
    "           \"cme_restart_1\",\n",
    "           \"cme_restart_2\",\n",
    "          ]\n",
    "def isclose(a, b, rel_tol=1e-09, abs_tol=0.0):\n",
    "    return abs(a-b) <= max(rel_tol * max(abs(a), abs(b)), abs_tol)"
   ]
  },
  {
   "cell_type": "code",
   "execution_count": 123,
   "metadata": {},
   "outputs": [],
   "source": [
    "%%bash\n",
    "rm -rf tmp && mkdir tmp"
   ]
  },
  {
   "cell_type": "markdown",
   "metadata": {},
   "source": [
    "### Execute the simulations."
   ]
  },
  {
   "cell_type": "code",
   "execution_count": 124,
   "metadata": {},
   "outputs": [],
   "source": [
    "def buildRestartFile(testname, filename):\n",
    "    fp = h5py.File(filename, \"a\")\n",
    "    trajectories = np.arange(1,1001, dtype=np.uint64)\n",
    "    fp.create_dataset(\"/Restart/Reaction/Trajectories\", data=trajectories)\n",
    "    if testname.endswith(\"_1\"):\n",
    "        times = np.zeros((trajectories.shape[0],), dtype=np.double)\n",
    "        counts = np.zeros((trajectories.shape[0],3), dtype=np.int32)\n",
    "        counts[:,0] = trajectories\n",
    "        counts[:,1] = trajectories+2000\n",
    "        counts[:,2] = trajectories+4000\n",
    "        fp.create_dataset(\"/Restart/Reaction/Times\", data=times)\n",
    "        fp.create_dataset(\"/Restart/Reaction/SpeciesCounts\", data=counts)\n",
    "    if testname.endswith(\"_2\"):\n",
    "        times = np.zeros((trajectories.shape[0],), dtype=np.double)\n",
    "        times += trajectories*1e-3\n",
    "        counts = np.zeros((trajectories.shape[0],3), dtype=np.int32)\n",
    "        counts[:,0] = trajectories\n",
    "        counts[:,1] = trajectories+2000\n",
    "        counts[:,2] = trajectories+4000\n",
    "        fp.create_dataset(\"/Restart/Reaction/Times\", data=times)\n",
    "        fp.create_dataset(\"/Restart/Reaction/SpeciesCounts\", data=counts)\n",
    "    fp.close()\n",
    "    return"
   ]
  },
  {
   "cell_type": "code",
   "execution_count": 125,
   "metadata": {},
   "outputs": [
    {
     "name": "stdout",
     "output_type": "stream",
     "text": [
      "Finished.\n"
     ]
    }
   ],
   "source": [
    "sbmlFilename=\"second_order_reversible.sbml\"\n",
    "\n",
    "for testName in testNames:\n",
    "    outputFilename = \"tmp/%s.lm\"%(testName)\n",
    "    if os.path.isfile(outputFilename): os.remove(outputFilename)\n",
    "    if (subprocess.call([\"lm_sbml_import\",outputFilename,sbmlFilename], stdout=DEVNULL, stderr=DEVNULL) != 0): print \"Error: lm_sbml_import failed for %s\"%(outputFilename)\n",
    "    if (subprocess.call([\"lm_setp\",outputFilename,\"writeInterval=1e0\",\"maxTime=1e1\"], stdout=DEVNULL, stderr=DEVNULL) != 0): print \"Error: lm_setp failed for %s\"%(outputFilename)\n",
    "    buildRestartFile(testName, outputFilename)\n",
    "    with open(\"%s.simulate.log\"%(outputFilename), \"w\") as logfile:\n",
    "        if (subprocess.call([\"lmes\",\"-f\",outputFilename,\"-r\",\"1-1000\",\"-sl\",\"lm::cme::GillespieDSolver\"], stdout=logfile, stderr=logfile) != 0): print \"Error: lmes failed for %s\"%(outputFilename)\n",
    "print \"Finished.\""
   ]
  },
  {
   "cell_type": "markdown",
   "metadata": {},
   "source": [
    "### Spot check some simulations."
   ]
  },
  {
   "cell_type": "code",
   "execution_count": 126,
   "metadata": {},
   "outputs": [
    {
     "data": {
      "image/png": "[encoded data removed]",
      "text/plain": [
       "<Figure size 1080x288 with 2 Axes>"
      ]
     },
     "metadata": {
      "needs_background": "light"
     },
     "output_type": "display_data"
    }
   ],
   "source": [
    "# Plot the time series for a single replicate.\n",
    "for i,testName in enumerate(testNames):\n",
    "    testOutputFilename=\"tmp/%s.lm\"%(testName)\n",
    "    fp = h5py.File(testOutputFilename, \"r\")\n",
    "    cols=2\n",
    "    rows=len(testNames)//cols\n",
    "    if rows*cols < len(testNames): rows += 1\n",
    "    matplotlib.rcParams.update({'font.size': 15, \"figure.figsize\": (15,4*rows)})\n",
    "    for replicate in (1,):\n",
    "        counts=np.array(fp[\"/Simulations/%07d/SpeciesCounts\"%replicate], dtype=double)\n",
    "        times=np.array(fp[\"/Simulations/%07d/SpeciesCountTimes\"%replicate], dtype=double)\n",
    "        plt.subplot(rows,cols,i+1)\n",
    "        step(times,counts[:,0], **stepStyles)\n",
    "        xlabel('t'); ylabel('# Molecules'); title(\"%s\"%(testName))\n",
    "    fp.close()\n",
    "plt.tight_layout()\n",
    "pass"
   ]
  },
  {
   "cell_type": "markdown",
   "metadata": {},
   "source": [
    "### Define the tests."
   ]
  },
  {
   "cell_type": "code",
   "execution_count": 127,
   "metadata": {},
   "outputs": [],
   "source": [
    "def test_cme_restart_1(testOutputFilename):\n",
    "    fp = h5py.File(testOutputFilename, \"r\")\n",
    "    replicates=fp[\"/Simulations\"].keys()\n",
    "    k=0\n",
    "    mSim=None\n",
    "    vSim=None\n",
    "    times=None\n",
    "    for replicate in replicates:\n",
    "        times = np.array(fp[\"/Simulations/%s/SpeciesCountTimes\"%replicate], dtype=double)\n",
    "        counts = np.array(fp[\"/Simulations/%s/SpeciesCounts\"%replicate], dtype=double)\n",
    "        for i in range(times.shape[0]):\n",
    "            if i == 0:\n",
    "                value = times[i]\n",
    "                if  value != 0.0: raise Exception(\"incorrect value for time\",i,value)\n",
    "                value = counts[i,0]\n",
    "                if  value != int(replicate): raise Exception(\"incorrect value for count\",replicate,i,0,value)\n",
    "                value = counts[i,1]\n",
    "                if  value != int(replicate)+2000: raise Exception(\"incorrect value for count\",replicate,i,1,value)\n",
    "                value = counts[i,2]\n",
    "                if  value != int(replicate)+4000: raise Exception(\"incorrect value for count\",replicate,i,2,value)\n",
    "            else:\n",
    "                value = times[i]\n",
    "                if  value != i*1.0: raise Exception(\"incorrect value for time\",i,value)\n",
    "                value = counts[i,0]+counts[i,2]\n",
    "                if  value != int(replicate)*2+4000: raise Exception(\"incorrect value for count a\",replicate,i,value)\n",
    "                value = counts[i,1]+counts[i,2]\n",
    "                if  value != int(replicate)*2+6000: raise Exception(\"incorrect value for count b\",replicate,i,value)\n",
    "    return"
   ]
  },
  {
   "cell_type": "code",
   "execution_count": 128,
   "metadata": {},
   "outputs": [],
   "source": [
    "def test_cme_restart_2(testOutputFilename):\n",
    "    fp = h5py.File(testOutputFilename, \"r\")\n",
    "    replicates=fp[\"/Simulations\"].keys()\n",
    "    k=0\n",
    "    mSim=None\n",
    "    vSim=None\n",
    "    times=None\n",
    "    for replicate in replicates:\n",
    "        times = np.array(fp[\"/Simulations/%s/SpeciesCountTimes\"%replicate], dtype=double)\n",
    "        counts = np.array(fp[\"/Simulations/%s/SpeciesCounts\"%replicate], dtype=double)\n",
    "        for i in range(times.shape[0]):\n",
    "            if i == 0:\n",
    "                value = times[i]\n",
    "                if  value != int(replicate)*1e-3: raise Exception(\"incorrect value for time\",i,value)\n",
    "                value = counts[i,0]\n",
    "                if  value != int(replicate): raise Exception(\"incorrect value for count\",replicate,i,0,value)\n",
    "                value = counts[i,1]\n",
    "                if  value != int(replicate)+2000: raise Exception(\"incorrect value for count\",replicate,i,1,value)\n",
    "                value = counts[i,2]\n",
    "                if  value != int(replicate)+4000: raise Exception(\"incorrect value for count\",replicate,i,2,value)\n",
    "            else:\n",
    "                if int(replicate) < 1000:\n",
    "                    value = times[i]\n",
    "                    if  value != i*1.0: raise Exception(\"incorrect value for time\",replicate,i,value)\n",
    "                else:\n",
    "                    value = times[i]\n",
    "                    if  value != (i+1)*1.0: raise Exception(\"incorrect value for time\",replicate,i,value)\n",
    "                value = counts[i,0]+counts[i,2]\n",
    "                if  value != int(replicate)*2+4000: raise Exception(\"incorrect value for count a\",replicate,i,value)\n",
    "                value = counts[i,1]+counts[i,2]\n",
    "                if  value != int(replicate)*2+6000: raise Exception(\"incorrect value for count b\",replicate,i,value)\n",
    "    return"
   ]
  },
  {
   "cell_type": "markdown",
   "metadata": {},
   "source": [
    "### Run the tests."
   ]
  },
  {
   "cell_type": "code",
   "execution_count": 129,
   "metadata": {},
   "outputs": [
    {
     "name": "stdout",
     "output_type": "stream",
     "text": [
      "[cme_restart_1]                                              : passed.\n",
      "[cme_restart_2]                                              : passed.\n"
     ]
    }
   ],
   "source": [
    "testMethods = {\n",
    "               \"cme_restart_1\": test_cme_restart_1,\n",
    "               \"cme_restart_2\": test_cme_restart_2,\n",
    "              }\n",
    "matplotlib.rcParams.update({'font.size': 15, \"figure.figsize\": (20,5*len(testNames))})\n",
    "i=1\n",
    "for testName in testNames:\n",
    "    try:\n",
    "        testOutputFilename=\"tmp/%s.lm\"%(testName)\n",
    "        testMethods[testName](testOutputFilename)\n",
    "    except Exception as e:\n",
    "        print \"%-60s : FAILED with:\"%(\"[\"+testName+\"]\"),e\n",
    "    except:\n",
    "        print \"%-60s : FAILED with: Unknown exception\"%(\"[\"+testName+\"]\")\n",
    "    else:\n",
    "        print \"%-60s : passed.\"%(\"[\"+testName+\"]\")\n",
    "pass"
   ]
  },
  {
   "cell_type": "code",
   "execution_count": 130,
   "metadata": {},
   "outputs": [],
   "source": [
    "%%bash\n",
    "rm -rf tmp"
   ]
  },
  {
   "cell_type": "code",
   "execution_count": null,
   "metadata": {},
   "outputs": [],
   "source": []
  }
 ],
 "metadata": {
  "kernelspec": {
   "display_name": "Python 2",
   "language": "python",
   "name": "python2"
  },
  "language_info": {
   "codemirror_mode": {
    "name": "ipython",
    "version": 2
   },
   "file_extension": ".py",
   "mimetype": "text/x-python",
   "name": "python",
   "nbconvert_exporter": "python",
   "pygments_lexer": "ipython2",
   "version": "2.7.16"
  }
 },
 "nbformat": 4,
 "nbformat_minor": 1
}
